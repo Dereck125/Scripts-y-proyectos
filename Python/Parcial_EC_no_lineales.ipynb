{
  "cells": [
    {
      "cell_type": "markdown",
      "id": "1f421a07",
      "metadata": {
        "id": "1f421a07"
      },
      "source": [
        "<a href=\"https://colab.research.google.com/github/jugernaut/MACTI-analisisnumerico/blob/desarrollo/SegundoParcial/SegundoParcialNum.ipynb\" target=\"_parent\"><img src=\"https://colab.research.google.com/assets/colab-badge.svg\" alt=\"Open In Colab\"/></a>"
      ]
    },
    {
      "cell_type": "markdown",
      "id": "e5f8a177",
      "metadata": {
        "deletable": false,
        "editable": false,
        "id": "e5f8a177",
        "nbgrader": {
          "cell_type": "markdown",
          "checksum": "b30438029a1020676df294a45e0169b4",
          "grade": false,
          "grade_id": "cell-581dc56d936a0834",
          "locked": true,
          "schema_version": 3,
          "solution": false,
          "task": false
        }
      },
      "source": [
        "<font color=\"Teal\" face=\"Comic Sans MS,arial\">\n",
        "  <h1 align=\"center\"><i>Segundo Parcial</i></h1>\n",
        "  </font>\n",
        "  <font color=\"Black\" face=\"Comic Sans MS,arial\">\n",
        "  <h5 align=\"center\"><i>Profesor: M.en.C. Miguel Angel Pérez León</i></h5>\n",
        "  <h5 align=\"center\"><i>Ayudante: Iván Calderón Coss</i></h5>\n",
        "  <h5 align=\"center\"><i>Materia: Análisis Numérico</i></h5>\n",
        "</font>"
      ]
    },
    {
      "cell_type": "markdown",
      "id": "ee02c76f",
      "metadata": {
        "id": "ee02c76f"
      },
      "source": [
        "# Nombre : Dereck Ariel Miguel Medrano\n",
        "# No. cuenta: 318149875"
      ]
    },
    {
      "cell_type": "markdown",
      "id": "baf02417",
      "metadata": {
        "deletable": false,
        "editable": false,
        "id": "baf02417",
        "nbgrader": {
          "cell_type": "markdown",
          "checksum": "1eca100c6b7af61c5472d100d570c0f3",
          "grade": false,
          "grade_id": "cell-dcdb6e10f425839d",
          "locked": true,
          "schema_version": 3,
          "solution": false,
          "task": false
        }
      },
      "source": [
        "## Las siguientes lineas son de apoyo para que ustedes sólo procesen los ejercicios\n",
        "\n",
        "**Es necesario ejecutar las siguientes celdas, de otra forma no podrás realizar los ejercicios.**"
      ]
    },
    {
      "cell_type": "code",
      "execution_count": null,
      "id": "11fa1347",
      "metadata": {
        "deletable": false,
        "editable": false,
        "id": "11fa1347",
        "nbgrader": {
          "cell_type": "code",
          "checksum": "f85ea0ab8e400df7d4ac22559609a366",
          "grade": true,
          "grade_id": "cell-91309f4c06d4a912",
          "locked": true,
          "points": 0,
          "schema_version": 3,
          "solution": false,
          "task": false
        }
      },
      "outputs": [],
      "source": [
        "# bibliotecas de evaluacion automatizada\n",
        "import numpy as np   \n",
        "from macti.evaluacion import Evalua\n",
        "evaluacion = Evalua('../../MACTI-analisisnumerico/SegundoParcial/utils/data/Parcial2', local=True)"
      ]
    },
    {
      "cell_type": "markdown",
      "id": "01b94d23",
      "metadata": {
        "deletable": false,
        "editable": false,
        "id": "01b94d23",
        "nbgrader": {
          "cell_type": "markdown",
          "checksum": "99aeca91df2b5633f432ec8bae76d532",
          "grade": false,
          "grade_id": "cell-fe919c4831bb40dc",
          "locked": true,
          "schema_version": 3,
          "solution": false,
          "task": false
        }
      },
      "source": [
        "# (5.25 Puntos) Segundo Parcial Parte Teórica\n",
        "\n",
        "El examen consiste en elegir las preguntas que deseas responder para aprobar (en el mejor de los casos el examen completo).\n",
        "\n",
        "En cada pregunta debes ser tan explícito como la calificación que desees obtener. En caso que tu justificación o desarrollo esté incompleto, también lo será la calificación asignada.\n",
        "\n",
        "\"Yo soy Thor, hijo de Odín y mientras haya vida en mi pecho… No se me ocurre más nada que decir. ¿Estás listo para morir?\"\n",
        "\n",
        "–Thor, la era de Ultrón."
      ]
    },
    {
      "cell_type": "markdown",
      "id": "861c4a09",
      "metadata": {
        "deletable": false,
        "editable": false,
        "id": "861c4a09",
        "nbgrader": {
          "cell_type": "markdown",
          "checksum": "617f8fb7fd079a7ff154eaef7787cd43",
          "grade": false,
          "grade_id": "cell-20a222f34b77eafa",
          "locked": true,
          "schema_version": 3,
          "solution": false,
          "task": false
        }
      },
      "source": [
        "# Normas Vectoriales\n"
      ]
    },
    {
      "cell_type": "markdown",
      "id": "c8a1b6ea",
      "metadata": {
        "deletable": false,
        "editable": false,
        "id": "c8a1b6ea",
        "nbgrader": {
          "cell_type": "markdown",
          "checksum": "1ce9c8d3adb440d834219536972b03d8",
          "grade": false,
          "grade_id": "cell-8b4ad8765096cf96",
          "locked": true,
          "schema_version": 3,
          "solution": false,
          "task": false
        }
      },
      "source": [
        " ## (0.75 Puntos)\n",
        " \n",
        " Demuestra que la $\\left\\Vert \\cdot\\right\\Vert _{\\infty}$ es norma vectorial"
      ]
    },
    {
      "cell_type": "markdown",
      "id": "1fa54eb0",
      "metadata": {
        "id": "1fa54eb0"
      },
      "source": [
        "Se debe demostrar que para cualesquiera vectores $\\vec{x},\\vec{y} \\in \\mathbb{R}^n$ se satisfacen las\n",
        "siguientes propiedades.\n",
        "1. $\\left\\Vert \\vec{x}\\right\\Vert_{\\infty} \\geq0$\\\n",
        "Dem.\n",
        "$$\\text{Por def. de norma del supremo tenemos que: } $$\n",
        "$$\\left\\Vert \\vec{x}\\right\\Vert_{\\infty} := sup\\{|x_1|,|x_2|,...,|x_n|\\}$$\n",
        "donde para cada $i \\in \\{1,2,3..,n\\}$\n",
        "$$|x_i|\\geq 0$$\n",
        "y como cada entrada va ser postivia por elo valor absoluto, se cumple la propiedad.\\\n",
        "$$\\therefore\\left\\Vert \\vec{x}\\right\\Vert_{\\infty} \\geq0 $$\n",
        "\n",
        "2.- $\\left\\Vert \\vec{x}\\right\\Vert_{\\infty} =0\\,\\Longleftrightarrow\\vec{x}=\\vec{0}$\\\n",
        "Dem.\n",
        "$$\\text{Por def. de norma del supremo tenemos que: } $$\n",
        "$$\\left\\Vert \\vec{x}\\right\\Vert_{\\infty} := sup\\{|x_1|,|x_2|,...,|x_n|\\}$$\n",
        "Donde\\\n",
        "$$sup\\{|x_1|,|x_2|,...,|x_n|\\} = 0$$\n",
        "$$ \\iff \\forall i \\in \\{1,2,3..,n\\}\\text{   }  |x_i|= 0$$\n",
        "$$\\iff \\vec{x}=\\vec{0}$$\n",
        "$$\\therefore \\left\\Vert \\vec{x}\\right\\Vert_{\\infty} =0\\,\\Longleftrightarrow\\vec{x}=\\vec{0}$$\n",
        "\n",
        "\n",
        "3.- $\\left\\Vert \\alpha\\vec{x}\\right\\Vert_{\\infty} =\\left|\\alpha\\right|\\left\\Vert \\vec{x}\\right\\Vert_{\\infty}$\\\n",
        "Dem.\n",
        "$$\\left\\Vert \\alpha\\vec{x}\\right\\Vert_{\\infty} =$$\n",
        "$$ =sup\\{|\\alpha x_1|,|\\alpha x_2|,...,|\\alpha x_n|\\}$$\n",
        "Donde para algun $i \\in \\{1,2,3...,n\\}$\\\n",
        "$$=|\\alpha x_i| =|\\alpha|| x_i| = |\\alpha| sup\\{|x_1|,|x_2|,...,|x_n|\\}$$\n",
        "$$=\\left|\\alpha\\right|\\left\\Vert \\vec{x}\\right\\Vert_{\\infty} $$\n",
        "$$\\therefore\\left\\Vert \\alpha\\vec{x}\\right\\Vert_{\\infty} =\\left|\\alpha\\right|\\left\\Vert \\vec{x}\\right\\Vert_{\\infty}$$\n",
        "4.- $\\left\\Vert \\vec{x}+\\vec{y}\\right\\Vert_{\\infty} \\leq \\left\\Vert \\vec{x}\\right\\Vert_{\\infty} +\\left\\Vert \\vec{y}\\right\\Vert_{\\infty}$\\\n",
        "Dem.\n",
        "$$\\left\\Vert \\vec{x}+\\vec{y}\\right\\Vert_{\\infty} =sup\\{|x_1+y_1|,|x_2+y_2|,...,|x_n+y_n|\\} $$\n",
        "Aplicando desigualdad del triangulo del valor absoluto.\\\n",
        "$$\\leq sup\\{|x_1|+|y_1|,|x_2|+|y_2|,...,|x_n|+|y_n|\\} $$\n",
        "$$\\leq sup\\{|x_1|,|x_2|,...,|x_n|\\} + sup\\{|y_1|,|y_2|,...,|y_n|\\}$$\n",
        "$$=\\left\\Vert \\vec{x}\\right\\Vert_{\\infty} +\\left\\Vert \\vec{y}\\right\\Vert_{\\infty}$$\n",
        "$$\\therefore \\left\\Vert \\vec{x}+\\vec{y}\\right\\Vert_{\\infty} \\leq \\left\\Vert \\vec{x}\\right\\Vert_{\\infty} +\\left\\Vert \\vec{y}\\right\\Vert_{\\infty}$$"
      ]
    },
    {
      "cell_type": "markdown",
      "id": "e1d6d165",
      "metadata": {
        "deletable": false,
        "editable": false,
        "id": "e1d6d165",
        "nbgrader": {
          "cell_type": "markdown",
          "checksum": "57b125103583fab1ff03fbab7c4b5e57",
          "grade": false,
          "grade_id": "cell-e19a59e0bf1a14d4",
          "locked": true,
          "schema_version": 3,
          "solution": false,
          "task": false
        }
      },
      "source": [
        "## (0.75 Puntos)\n",
        "\n",
        "Sean $x\\in\\mathbb{R}^{n}$ y $\\left\\Vert \\cdot\\right\\Vert$ Demostrar que la $\\left\\Vert \\vec{x}\\right\\Vert _{\\infty}$ y la $\\left\\Vert \\vec{x}\\right\\Vert _{1}$ son equivalentes, es decir $\\left\\Vert \\vec{x}\\right\\Vert _{\\infty} \\leq \\left\\Vert \\vec{x}\\right\\Vert _{1}\\leq n\\left\\Vert \\vec{x}\\right\\Vert _{\\infty}$. Se sugiere dividir la demostración en 2 partes.\n",
        "\n",
        "*   $\\left\\Vert \\vec{x}\\right\\Vert _{\\infty} \\leq \\left\\Vert \\vec{x}\\right\\Vert _{1}$\n",
        "*   $\\left\\Vert \\vec{x}\\right\\Vert _{1}\\leq n\\left\\Vert \\vec{x}\\right\\Vert _{\\infty}$\n"
      ]
    },
    {
      "cell_type": "markdown",
      "id": "c22e8b8e",
      "metadata": {
        "id": "c22e8b8e"
      },
      "source": [
        "*   $\\left\\Vert \\vec{x}\\right\\Vert _{\\infty} \\leq \\left\\Vert \\vec{x}\\right\\Vert _{1}$\\\n",
        "Dem.\n",
        "Sea $$\\left\\Vert \\vec{x}\\right\\Vert_{\\infty} := sup\\{|x_1|,|x_2|,...,|x_n|\\} = |x_j|$$\n",
        "Para algun $j \\in \\{1,2,3,..,n\\}$.\\\n",
        "Asi por def. de norma-1\n",
        "$$\\left\\Vert \\vec{x}\\right\\Vert _{1} = \\sum_{i=1}^{n}\\left|x_{i}\\right| =\\left|x_{1}\\right|+\\left|x_{2}\\right|+\\cdots + |x_j|+\\cdots+\\left|x_{n}\\right| \\geq |x_j| = $$\n",
        "$$= sup\\{|x_1|,|x_2|,...,|x_n|\\} =\\left\\Vert \\vec{x}\\right\\Vert_{\\infty} $$\n",
        "$$\\therefore \\left\\Vert \\vec{x}\\right\\Vert _{\\infty} \\leq \\left\\Vert \\vec{x}\\right\\Vert _{1} $$\n",
        "\n",
        "\n",
        "*   $\\left\\Vert \\vec{x}\\right\\Vert _{1}\\leq n\\left\\Vert \\vec{x}\\right\\Vert _{\\infty}$\\\n",
        "Dem.\n",
        "$$|x_j|\\geq |x_i| \\implies \\sum_{i=1}^{n}|x_j| \\geq  \\sum_{i=1}^{n}|x_i| $$\n",
        "$$\\implies n|x_j| \\geq \\left\\Vert \\vec{x}\\right\\Vert _{1}  $$\n",
        "como $\\left\\Vert \\vec{x}\\right\\Vert_{\\infty} = |x_j| $\n",
        "$$\\therefore n\\left\\Vert \\vec{x}\\right\\Vert _{\\infty} \\geq\\left\\Vert \\vec{x}\\right\\Vert _{1} $$\n",
        "Es decir.\\\n",
        "$$\\left\\Vert \\vec{x}\\right\\Vert _{1}\\leq n\\left\\Vert \\vec{x}\\right\\Vert _{\\infty}$$\n",
        "\n",
        "\n"
      ]
    },
    {
      "cell_type": "markdown",
      "id": "5d40136f",
      "metadata": {
        "deletable": false,
        "editable": false,
        "id": "5d40136f",
        "nbgrader": {
          "cell_type": "markdown",
          "checksum": "a9a901522069a53913c306b2a74c3d61",
          "grade": false,
          "grade_id": "cell-f16f77f860674fcf",
          "locked": true,
          "schema_version": 3,
          "solution": false,
          "task": false
        }
      },
      "source": [
        "# Normas Inducidas\n"
      ]
    },
    {
      "cell_type": "markdown",
      "id": "f6cf8efb",
      "metadata": {
        "deletable": false,
        "editable": false,
        "id": "f6cf8efb",
        "nbgrader": {
          "cell_type": "markdown",
          "checksum": "b1f1bb54615d5c2702cc197c8a835d6a",
          "grade": false,
          "grade_id": "cell-a596e189dda909cb",
          "locked": true,
          "schema_version": 3,
          "solution": false,
          "task": false
        }
      },
      "source": [
        "## (0.75 Puntos) \n",
        "\n",
        "Derivar la formula para calcular $\\left\\Vert A\\right\\Vert _{\\infty}$ (Teo. 2) explícitamente (seguir la derivación para $\\left\\Vert A\\right\\Vert _{1}$ vista en clase)."
      ]
    },
    {
      "cell_type": "markdown",
      "id": "b6770cb9",
      "metadata": {
        "id": "b6770cb9"
      },
      "source": [
        "Dem.\n",
        "Sea $\\vec{x}\\in\\mathbb{R}^{n}$ y $A\\in M_{n\\times n}$ sobre $\\mathbb{R}$ con $A=\\left[\\vec{a}_{1}|\\vec{a}_{2}\\text{|}\\cdots\\text{|}\\vec{a}_{n}\\right]$, donde $\\vec{a}_{j}$ es un vector columna en $\\mathbb{R}^{n}$. \n",
        "Consideremos la bola unitaria en la 1-norma $:=\\left\\{ \\vec{x}\\in\\mathbb{R}^{n}\\mid\\left\\Vert \\vec{x}\\right\\Vert _{1}=\\sum_{j=1}^{n}\\left|x_{j}\\right|\\leq1\\right\\}$ . Cualquier vector $A\\vec{x}$ satisface:\n",
        "\n",
        "$$\\left\\Vert A\\vec{x}\\right\\Vert _{\\infty}\t=\n",
        "\\left\\Vert \\sum_{j=1}^{n}\\vec{a}_{j}x_{j}\\right\\Vert _{\\infty}\\overset{\\underbrace{prop\\,4\\,nor}}{\\leq}\\sum_{j=1}^{n}\\left\\Vert \\vec{a}_{j}x_{j}\\right\\Vert _{\\infty} \\leq \\sum_{j=1}^{n}\\left\\Vert \\vec{a}_{j}x_{j}\\right\\Vert _{1} = \\sum_{j=1}^{n}\\left\\Vert \\vec{a}_{j}\\right\\Vert _{1}|x_{j}|\\leq\\underset{1\\leq i\\leq n}{max} \\left\\Vert \\vec{a}_{j}\\right\\Vert _{1} \\sum_{j=1}^{n}|x_{j}| \\overset{\\underbrace{bola\\,unit.}}{\\leq} \\underset{1\\leq i\\leq n}{max} \\left\\Vert \\vec{a}_{j}\\right\\Vert _{1}= \\underset{1\\leq i\\leq n}{max}\\sum_{j=1}^{n}|a_{ij}|= \\underset{1\\leq i\\leq n}{max}\\left\\Vert \\vec{a}_{i}\\right\\Vert _{1}\n",
        "$$\n",
        "\n",
        "$$\\therefore\t\\left\\Vert A\\vec{x}\\right\\Vert _{\\infty}\\leq\\underset{1\\leq i\\leq n}{max}\\left\\Vert \\vec{a}_{i}\\right\\Vert _{1}$$\n",
        "\n",
        "\n",
        "Si elegimos $\\vec{x}=\\vec{e}_{i}$ (es decir el vector canónico, ademas $\\left\\Vert \\vec{e}_{i}\\right\\Vert _{\\infty}=1)$ con un 1 en la entrada $i$. Donde $i$ maximiza, $\\left\\Vert \\vec{a}_{i}\\right\\Vert _{\\infty}$, obtenemos la minima cota superior (en otras palabras el $sup$) y por lo tanto la igualdad.\n",
        "\n",
        "$$\\therefore\\left\\Vert A\\right\\Vert _{\\infty}=\\underset{\\vec{x}\\neq\\vec{0}}{sup}\\frac{\\left\\Vert A\\vec{x}\\right\\Vert _{\\infty}}{\\left\\Vert \\vec{x}\\right\\Vert _{\\infty}}=\\underset{1\\leq i\\leq n}{max}\\left\\Vert \\vec{a}_{j}\\right\\Vert _{1}$$"
      ]
    },
    {
      "cell_type": "markdown",
      "id": "62650c69",
      "metadata": {
        "deletable": false,
        "editable": false,
        "id": "62650c69",
        "nbgrader": {
          "cell_type": "markdown",
          "checksum": "d66450a387954439c93a893fef9b1926",
          "grade": false,
          "grade_id": "cell-511daecae7910cd6",
          "locked": true,
          "schema_version": 3,
          "solution": false,
          "task": false
        }
      },
      "source": [
        "## (0.75 Puntos) \n",
        "\n",
        "Sea $A\\in M_{n\\times n}$ sobre $\\mathbb{R}$ , demostrar las siguientes desigualdades de normas matriciales (inducidas).\n",
        "\n",
        "*     $\\left\\Vert A\\right\\Vert _{1}\\leq\\sqrt{n}\\left\\Vert A\\right\\Vert _{2}$\n",
        "*     $\\sqrt{n}\\left\\Vert A\\right\\Vert _{2}\\leq n\\left\\Vert A\\right\\Vert _{\\infty}$"
      ]
    },
    {
      "cell_type": "markdown",
      "id": "fecd2024",
      "metadata": {
        "id": "fecd2024"
      },
      "source": [
        "*Definición:* Dos normas $\\left\\Vert \\cdot\\right\\Vert _{p}$ y $\\left\\Vert \\cdot\\right\\Vert _{q}$\n",
        "son equivalentes en $\\mathbb{R}^{n}$ si existen 2 constantes universales\n",
        "positivas $\\alpha,\\beta$ tales que\n",
        "\n",
        "$$\\forall\\vec{x}\\in\\mathbb{R}^{n}\\qquad\\alpha\\left\\Vert \\vec{x}\\right\\Vert _{p}\\leq\\left\\Vert \\vec{x}\\right\\Vert _{q}\\leq\\beta\\left\\Vert \\vec{x}\\right\\Vert _{p}$$\n",
        "\n",
        "$$\\begin{eqnarray*}\n",
        "1)\\left\\Vert \\vec{x}\\right\\Vert _{2}\\; & \\leq & \\left\\Vert \\vec{x}\\right\\Vert _{1}\\leq\\sqrt{n}\\left\\Vert \\vec{x}\\right\\Vert _{2}\\\\\n",
        "2)\\left\\Vert \\vec{x}\\right\\Vert _{\\infty} & \\leq & \\left\\Vert \\vec{x}\\right\\Vert _{2}\\leq\\sqrt{n}\\left\\Vert \\vec{x}\\right\\Vert _{\\infty}\\\\\n",
        "3)\\left\\Vert \\vec{x}\\right\\Vert _{\\infty} & \\leq & \\left\\Vert \\vec{x}\\right\\Vert _{1}\\leq n\\left\\Vert \\vec{x}\\right\\Vert _{\\infty}\n",
        "\\end{eqnarray*}$$"
      ]
    },
    {
      "cell_type": "markdown",
      "id": "f946473a",
      "metadata": {
        "id": "f946473a"
      },
      "source": [
        "*     $\\left\\Vert A\\right\\Vert _{1}\\leq\\sqrt{n}\\left\\Vert A\\right\\Vert _{2}$\\\n",
        "Dem.\\\n",
        "$$\\left\\Vert A\\right\\Vert _{1} =  \\underset{\\vec{x}\\neq\\vec{0}}{sup}\\frac{\\left\\Vert A\\vec{x}\\right\\Vert _{1}}{\\left\\Vert \\vec{x}\\right\\Vert _{1}}$$\n",
        "Por $1)$\n",
        "$$\\leq \\left\\Vert A\\right\\Vert _{1} =  \\underset{\\vec{x}\\neq\\vec{0}}{sup}\\frac{\\sqrt{n}\\left\\Vert A\\vec{x}\\right\\Vert _{2}}{\\left\\Vert \\vec{x}\\right\\Vert _{1}}$$\n",
        "Por $1)$\n",
        "$$\\left\\Vert \\vec{x}\\right\\Vert _{2} \\leq  \\left\\Vert \\vec{x}\\right\\Vert _{1} \\iff \\frac{1}{\\left\\Vert \\vec{x}\\right\\Vert _{2}} \\geq \\frac{1}{\\left\\Vert \\vec{x}\\right\\Vert _{1} }$$\n",
        "$$\\implies \\left\\Vert A\\right\\Vert _{1} =  \\underset{\\vec{x}\\neq\\vec{0}}{sup}\\frac{\\left\\Vert A\\vec{x}\\right\\Vert _{1}}{\\left\\Vert \\vec{x}\\right\\Vert _{1}} \\leq   \\underset{\\vec{x}\\neq\\vec{0}}{sup}\\frac{\\sqrt{n}\\left\\Vert A\\vec{x}\\right\\Vert _{2}}{\\left\\Vert \\vec{x}\\right\\Vert _{2}}= \\sqrt{n}\\left\\Vert A\\right\\Vert _{2}$$\n",
        "$$\\therefore \\left\\Vert A\\right\\Vert _{1}\\leq\\sqrt{n}\\left\\Vert A\\right\\Vert _{2} $$\n",
        "\n",
        "\n",
        "\n",
        "\n",
        "*     $\\sqrt{n}\\left\\Vert A\\right\\Vert _{2}\\leq n\\left\\Vert A\\right\\Vert _{\\infty}$\\\n",
        "Dem.\\\n",
        "\n",
        "$$\\sqrt{n}\\left\\Vert A\\right\\Vert _{2} = \\underset{\\vec{x}\\neq\\vec{0}}{sup}\\frac{\\sqrt{n}\\left\\Vert A\\vec{x}\\right\\Vert _{2}}{\\left\\Vert \\vec{x}\\right\\Vert _{2}}$$\n",
        "Por $2)$ tenderemos que:\n",
        "$$\\left\\Vert \\vec{x}\\right\\Vert _{2} \\leq \\sqrt{n}\\left\\Vert \\vec{x}\\right\\Vert _{\\infty} \\iff \\sqrt{n}\\left\\Vert \\vec{x}\\right\\Vert _{2} \\leq n\\left\\Vert \\vec{x}\\right\\Vert _{\\infty} $$ \n",
        "$$\\implies \\sqrt{n}\\left\\Vert A\\right\\Vert _{2} = \\underset{\\vec{x}\\neq\\vec{0}}{sup}\\frac{\\sqrt{n}\\left\\Vert A\\vec{x}\\right\\Vert _{2}}{\\left\\Vert \\vec{x}\\right\\Vert _{2}} \\leq \\underset{\\vec{x}\\neq\\vec{0}}{sup}\\frac{n\\left\\Vert A\\vec{x}\\right\\Vert _{\\infty}}{\\left\\Vert \\vec{x}\\right\\Vert _{2}}$$\n",
        "Por $2)$\n",
        "$$\\left\\Vert \\vec{x}\\right\\Vert _{\\infty}  \\leq  \\left\\Vert \\vec{x}\\right\\Vert _{2} \\iff \\frac{1}{\\left\\Vert \\vec{x}\\right\\Vert _{\\infty} } \\geq \\frac{1}{\\left\\Vert \\vec{x}\\right\\Vert _{2}} $$\n",
        "\n",
        "$$\\implies \\underset{\\vec{x}\\neq\\vec{0}}{sup}\\frac{n\\left\\Vert A\\vec{x}\\right\\Vert _{\\infty}}{\\left\\Vert \\vec{x}\\right\\Vert _{2}} \\leq \\underset{\\vec{x}\\neq\\vec{0}}{sup}\\frac{n\\left\\Vert A\\vec{x}\\right\\Vert _{\\infty}}{\\left\\Vert \\vec{x}\\right\\Vert _{\\infty}} = n\\left\\Vert A\\right\\Vert _{\\infty}$$\n",
        "\n",
        "$$\\therefore \\sqrt{n}\\left\\Vert A\\right\\Vert _{2}\\leq n\\left\\Vert A\\right\\Vert _{\\infty}$$"
      ]
    },
    {
      "cell_type": "markdown",
      "id": "2c1ec110",
      "metadata": {
        "deletable": false,
        "editable": false,
        "id": "2c1ec110",
        "nbgrader": {
          "cell_type": "markdown",
          "checksum": "2b534215d389a5993597e88c08fa6767",
          "grade": false,
          "grade_id": "cell-b78de73251761e3b",
          "locked": true,
          "schema_version": 3,
          "solution": false,
          "task": false
        }
      },
      "source": [
        "## (0.75 Puntos) \n",
        "Sea $A=\\left(\\begin{array}{ccc}\n",
        "1 & 5 & 8\\\\\n",
        "4 & -5 & 10\\\\\n",
        "9 & 15 & -2\n",
        "\\end{array}\\right)$ calcular las siguientes normas (mostrar desarrollo):\n",
        "\n",
        "*   $\\left\\Vert A\\right\\Vert _{1}$\n",
        "*   $\\left\\Vert A\\right\\Vert _{\\infty}$\n",
        "*   $\\left\\Vert A\\right\\Vert _{2}$\n",
        "*   $\\left\\Vert A\\right\\Vert _{F}$"
      ]
    },
    {
      "cell_type": "markdown",
      "id": "ba56524e",
      "metadata": {
        "id": "ba56524e"
      },
      "source": [
        "### soluciones\n",
        "\n",
        "\n",
        "*   $\\left\\Vert A\\right\\Vert _{1} = \\underset{1\\leq j\\leq n}{max}\\left\\Vert \\vec{a}_{j}\\right\\Vert _{1}=\\underset{1\\leq j\\leq 3}{max}\\left\\Vert \\vec{a}_{j}\\right\\Vert _{1}=max\\{(1+4+9=14),(5+5+15=25),(8+10+2=20)\\}=25$\n",
        "*   $\\left\\Vert A\\right\\Vert _{\\infty}=\\underset{1\\leq i\\leq n}{max}\\left\\Vert \\vec{a}_{i}\\right\\Vert _{1}=\\underset{1\\leq i\\leq 3}{max}\\left\\Vert \\vec{a}_{i}\\right\\Vert _{1}=max\\{(1+5+8=14),(4+5+10=19),(9+15+2=26)\\}=26$\n",
        "\n",
        "Para las siguientes normas, primero calcularemos $(A^TA)$\n",
        "Entonces:\\\n",
        "$$A^TA = \\left(\\begin{array}{ccc}\n",
        "1 & 4 & 9\\\\\n",
        "5 & -5 & 15\\\\\n",
        "8 & 10 & -2\n",
        "\\end{array}\\right)  \\left(\\begin{array}{ccc}\n",
        "1 & 5 & 8\\\\\n",
        "4 & -5 & 10\\\\\n",
        "9 & 15 & -2\n",
        "\\end{array}\\right) = \\left(\\begin{array}{ccc}\n",
        "1+16+81 & 5-20+135 & 8+40-18\\\\\n",
        "5-20+135 & 25+25+225 & 40-50-30\\\\\n",
        "8+40-18 & 40-50-30 & 64+100+4\n",
        "\\end{array}\\right) = \\left(\\begin{array}{ccc}\n",
        "98 & 120 & 30\\\\\n",
        "120 & 275 & -40\\\\\n",
        "30 & -40 & 168\n",
        "\\end{array}\\right)$$\n",
        "\n",
        "\n",
        "*   $\\left\\Vert A\\right\\Vert _{2} = \\sqrt{det\\left(\\left(A^{T}A\\right)-\\lambda I\\right)}$\n",
        "Eentonces, tenemos que:\n",
        "$$\\left(\\begin{array}{ccc}\n",
        "98 & 120 & 30\\\\\n",
        "120 & 275 & -40\\\\\n",
        "30 & -40 & 168\n",
        "\\end{array}\\right) - \\left(\\begin{array}{ccc}\n",
        "\\lambda & 0 & 0\\\\\n",
        "0 & \\lambda & 0\\\\\n",
        "0 & 0 & \\lambda\n",
        "\\end{array}\\right) = \\left(\\begin{array}{ccc}\n",
        "98-\\lambda & 120 & 30\\\\\n",
        "120 & 275-\\lambda & -40\\\\\n",
        "30 & -40 & 168-\\lambda\n",
        "\\end{array}\\right)  $$\n",
        "\n",
        "Asi,\n",
        "$$det\\left(\\left(A^{T}A\\right)-\\lambda I\\right) = \n",
        "det{\\left(\\begin{array}{ccc}\n",
        "98-\\lambda & 120 & 30\\\\\n",
        "120 & 275-\\lambda & -40\\\\\n",
        "30 & -40 & 168-\\lambda\n",
        "\\end{array}\\right)} = \n",
        "98-\\lambda \\left(\\begin{array}{cc}\n",
        "275-\\lambda & -40 \\\\\n",
        "-40 & 168-\\lambda \n",
        "\\end{array}\\right)\n",
        "-120 \\left(\\begin{array}{cc}\n",
        "120 & 30 \\\\\n",
        "-40 & 168-\\lambda \n",
        "\\end{array}\\right)+30\\left(\\begin{array}{cc}\n",
        "120 & 30 \\\\\n",
        "275-\\lambda  & -40\n",
        "\\end{array}\\right)\n",
        "$$\n",
        "$$=4370800-88014\\lambda+541\\lambda^2-\\lambda^3 - 2563200+14400\\lambda -391500+900\\lambda$$\n",
        "$$=1416100-72714\\lambda+541\\lambda^2-\\lambda^3$$\n",
        "\n",
        "Al encontrar las raíces de esta ecuación cubica, se tiene que$$\\begin{cases}\n",
        "\\lambda_{1}=338.6057951\\\\\n",
        "\\lambda_{2}=179.034780.02566\\\\\n",
        "\\lambda_{3}=23.359423\n",
        "\\end{cases}$$\n",
        "\n",
        "Donde si tomamos a $\\lambda_{1}$\\\n",
        "$$\\implies \\left\\Vert A\\right\\Vert _{2} = \\sqrt{338.6057951}=18.40124$$\n",
        "\n",
        "*   $\\left\\Vert A\\right\\Vert _{F}= \\sqrt{traza\\left(A^{T}A\\right)} = \\sqrt{98+275+168} = 23.2594067$"
      ]
    },
    {
      "cell_type": "markdown",
      "id": "62fdfac1",
      "metadata": {
        "id": "62fdfac1"
      },
      "source": [
        "#### Comprobacion"
      ]
    },
    {
      "cell_type": "code",
      "execution_count": null,
      "id": "4702cc40",
      "metadata": {
        "id": "4702cc40",
        "outputId": "87aa0109-be45-491e-f4e3-d98ccacf8eb4"
      },
      "outputs": [
        {
          "name": "stdout",
          "output_type": "stream",
          "text": [
            "[[ 1  5  8]\n",
            " [ 4 -5 10]\n",
            " [ 9 15 -2]]\n",
            "25.0\n",
            "26.0\n",
            "18.401244391160553\n",
            "23.259406699226016\n"
          ]
        }
      ],
      "source": [
        "import numpy as np\n",
        "\n",
        "# Se define la matriz A\n",
        "A = np.array([[1,5,8],[4,-5,10],[9,15,-2]])\n",
        "print (A)\n",
        "\n",
        "# Calculamos la 1-norma de A\n",
        "print (np.linalg.norm(A, 1))\n",
        "\n",
        "# Calculamos la norma del supremo de A\n",
        "print (np.linalg.norm(A, np.inf))\n",
        "\n",
        "# Calculamos la 2-norma de A\n",
        "print (np.linalg.norm(A, 2))\n",
        "\n",
        "# Calculamos la norma F\n",
        "print (np.linalg.norm(A, \"fro\"))"
      ]
    },
    {
      "cell_type": "markdown",
      "id": "dc18dcfb",
      "metadata": {
        "deletable": false,
        "editable": false,
        "id": "dc18dcfb",
        "nbgrader": {
          "cell_type": "markdown",
          "checksum": "f843d413837ac58ed1d015d8310b106e",
          "grade": false,
          "grade_id": "cell-f0e10fffc7415b85",
          "locked": true,
          "schema_version": 3,
          "solution": false,
          "task": false
        }
      },
      "source": [
        "# Solución de Sistemas"
      ]
    },
    {
      "cell_type": "markdown",
      "id": "7f6a46c9",
      "metadata": {
        "deletable": false,
        "editable": false,
        "id": "7f6a46c9",
        "nbgrader": {
          "cell_type": "markdown",
          "checksum": "e7648f7969ed8c100af7ce14f63b9ffa",
          "grade": false,
          "grade_id": "cell-4dad046190b9c37a",
          "locked": true,
          "schema_version": 3,
          "solution": false,
          "task": false
        }
      },
      "source": [
        "## (0.5 Puntos)\n",
        "\n",
        "Emplea algún tipo de factorización $\\left(A=LU,\\;PA=LU\\right)$ para encontrar la solución del siguiente sistema de ecuaciones. Muestra el desarrollo, no solo el resultado.\n",
        "\n",
        "$$\\left(\\begin{array}{ccc}\n",
        "1 & 2 & 4\\\\\n",
        "3 & 8 & 14\\\\\n",
        "2 & 6 & 13\n",
        "\\end{array}\\right)\\left(\\begin{array}{c}\n",
        "x_{0}\\\\\n",
        "x_{1}\\\\\n",
        "x_{2}\n",
        "\\end{array}\\right)=\\left(\\begin{array}{c}\n",
        "3\\\\\n",
        "13\\\\\n",
        "4\n",
        "\\end{array}\\right)$$"
      ]
    },
    {
      "cell_type": "markdown",
      "id": "1f72a525",
      "metadata": {
        "id": "1f72a525"
      },
      "source": [
        "Sea:\n",
        "$$A= \\left(\\begin{array}{ccc}\n",
        "1 & 2 & 4\\\\\n",
        "3 & 8 & 14\\\\\n",
        "2 & 6 & 13\n",
        "\\end{array}\\right)$$\n",
        "$$\\vec{b}= \\left(\\begin{array}{c}\n",
        "3\\\\\n",
        "13\\\\\n",
        "4\n",
        "\\end{array}\\right)$$\n",
        "Aplicando la factorizacion $LU$ \n",
        "$$A=\\left(\\begin{array}{ccc}\n",
        "1 & 2 & 4\\\\\n",
        "3 & 8 & 14\\\\\n",
        "2 & 6 & 13\n",
        "\\end{array}\\right)=U\\;y\\;L=\\left(\\begin{array}{ccc}\n",
        "1 & 0 & 0\\\\\n",
        "0 & 1 & 0\\\\\n",
        "0 & 0 & 1\n",
        "\\end{array}\\right)\\Longrightarrow A=UL$$\n",
        "Multipliquemos el renglón 1 de $A$ por **3** y lo restamos al segundo renglón.\n",
        "$$U=\\left(\\begin{array}{ccc}\n",
        "1 & 2 & 4\\\\\n",
        "0 & 2 & 2 \\\\\n",
        "2 & 6 & 13\n",
        "\\end{array}\\right)\\quad L=\\left(\\begin{array}{ccc}\n",
        "1 & 0 & 0\\\\\n",
        "{\\color{blue}{3}} & 1 & 0\\\\\n",
        "0 & 0 & 1\n",
        "\\end{array}\\right)$$\n",
        "Multipliquemos el renglón 1 por **2** y lo restamos al tercer renglón.\n",
        "$$U=\\left(\\begin{array}{ccc}\n",
        "1 & 2 & 4\\\\\n",
        "0 & 2 & 2 \\\\\n",
        "0 & 2 & 5\n",
        "\\end{array}\\right)\\quad L=\\left(\\begin{array}{ccc}\n",
        "1 & 0 & 0\\\\\n",
        "3& 1 & 0\\\\\n",
        "{\\color{blue}{2}}  & 0 & 1\n",
        "\\end{array}\\right)$$\n",
        "Multipliquemos el renglón 2 por **1** y lo restamos al tercer renglón.\n",
        "$$U=\\left(\\begin{array}{ccc}\n",
        "1 & 2 & 4\\\\\n",
        "0 & 2 & 2 \\\\\n",
        "0 & 0 & 3\n",
        "\\end{array}\\right)\\quad L=\\left(\\begin{array}{ccc}\n",
        "1 & 0 & 0\\\\\n",
        "3& 1 & 0\\\\\n",
        " 2 & {\\color{blue}{1}}  & 1\n",
        "\\end{array}\\right)$$"
      ]
    },
    {
      "cell_type": "code",
      "execution_count": null,
      "id": "9b7bc8b1",
      "metadata": {
        "id": "9b7bc8b1",
        "outputId": "633499db-0997-4a3b-879b-b6a5f489ecb0"
      },
      "outputs": [
        {
          "name": "stdout",
          "output_type": "stream",
          "text": [
            "[[ 1  2  4]\n",
            " [ 3  8 14]\n",
            " [ 2  6 13]]\n"
          ]
        }
      ],
      "source": [
        "U = np.array([[1,2,4],[0,2,2],[0,0,3]])\n",
        "L = np.array([[1,0,0],[3,1,0],[2,1,1]])\n",
        "\n",
        "# Comprobamos que la factorizacion es correcta\n",
        "print(np.matmul(L,U))"
      ]
    },
    {
      "cell_type": "markdown",
      "id": "9331447e",
      "metadata": {
        "id": "9331447e"
      },
      "source": [
        "Resolviendo $L\\vec{y} = \\vec{b}$\n",
        "$$\\left(\\begin{array}{ccc}\n",
        "1 & 0 & 0\\\\\n",
        "3& 1 & 0\\\\\n",
        " 2 & 1& 1\n",
        "\\end{array}\\right) \\left(\\begin{array}{c}\n",
        "y_0\\\\\n",
        "y_1\\\\\n",
        "y_2 \n",
        "\\end{array}\\right) =\\left(\\begin{array}{c}\n",
        "3\\\\\n",
        "13\\\\\n",
        "4\n",
        "\\end{array}\\right) $$\n",
        "Aplicancdo Substitucion hacia adelante.\n",
        "$$\n",
        " \\left(\\begin{array}{c}\n",
        "y_0\\\\\n",
        "y_1\\\\\n",
        "y_2 \n",
        "\\end{array}\\right) \n",
        " =  \\left(\\begin{array}{c}\n",
        "3\\\\\n",
        "13-3(y_0) = 4\\\\\n",
        "4-y_1-2y_0=-6 \n",
        "\\end{array}\\right) $$\n",
        "\n",
        "Asi entonces, ahora tomamos $U\\vec{x} = \\vec{y}$\n",
        "$$\n",
        "\\left(\\begin{array}{ccc}\n",
        "1 & 2 & 4\\\\\n",
        "0 & 2 & 2 \\\\\n",
        "0 & 0 & 3\n",
        "\\end{array}\\right)\\left(\\begin{array}{c}\n",
        "x_0\\\\\n",
        "x_1\\\\\n",
        "x_2 \n",
        "\\end{array}\\right) = \\left(\\begin{array}{c}\n",
        "3\\\\\n",
        "4\\\\\n",
        "-6 \n",
        "\\end{array}\\right) $$\n",
        "Aplicando substitucion hacia atras.\n",
        "$$\\left(\\begin{array}{c}\n",
        "x_0\\\\\n",
        "x_1\\\\\n",
        "x_2 \n",
        "\\end{array}\\right)= \\left(\\begin{array}{c}\n",
        "x_0 = 3 -4x_2-2x_1 = 3\\\\\n",
        "x_1 = \\frac{ 4-2x_2}{2}=4 \\\\\n",
        "x_2 = \\frac{-6}{3} =-2\n",
        "\\end{array}\\right)$$\n",
        "Por lo tanto la solucion al sistema es:\n",
        "$$\\left(\\begin{array}{c}\n",
        "x_0\\\\\n",
        "x_1\\\\\n",
        "x_2 \n",
        "\\end{array}\\right)= \\left(\\begin{array}{c}\n",
        " 3\\\\\n",
        "4 \\\\\n",
        "-2\n",
        "\\end{array}\\right)$$"
      ]
    },
    {
      "cell_type": "markdown",
      "id": "3a386e2b",
      "metadata": {
        "id": "3a386e2b"
      },
      "source": [
        "### Comprobacion"
      ]
    },
    {
      "cell_type": "code",
      "execution_count": null,
      "id": "5aa580f8",
      "metadata": {
        "id": "5aa580f8"
      },
      "outputs": [],
      "source": [
        "import numpy as np\n",
        "\n",
        "# algoritmo para sustitucion hacia delante\n",
        "# n es el tamano de la dimension del problema\n",
        "# matriz L, vector b ya estan dados como parametros\n",
        "# guardar los resultados en el vector y\n",
        "# Ly=b\n",
        "def sustDelante(L, b):\n",
        "    n=len(L)\n",
        "    y=np.empty_like(b)\n",
        "    y[0] = b[0]\n",
        "    for i in range(1,n):\n",
        "        y[i] = b[i]\n",
        "        for j in range(0,i):\n",
        "            y[i] -= L[i][j]*y[j]\n",
        "    return y\n",
        "\n",
        "# algoritmo para sustitucion hacia atras\n",
        "# n es el tamano de la dimension del problema\n",
        "# matriz U, vector y ya estan dados como parametros\n",
        "# guardar los resultados en el vector x\n",
        "# Ux=y\n",
        "def sustAtras(U, y):\n",
        "    n=len(U)\n",
        "    x=np.empty_like(y)\n",
        "    x[n-1] = y[n-1]/U[n-1][n-1]\n",
        "    for i in range(n-2,-1,-1):\n",
        "        x[i] = y[i]\n",
        "        for j in range(i+1,n):\n",
        "            x[i] -= U[i][j]*x[j]\n",
        "        x[i] /= U[i][i]\n",
        "    return x\n"
      ]
    },
    {
      "cell_type": "code",
      "execution_count": null,
      "id": "c8628bac",
      "metadata": {
        "id": "c8628bac",
        "outputId": "9124ff07-dd90-4cd0-fc06-58175eade150"
      },
      "outputs": [
        {
          "name": "stdout",
          "output_type": "stream",
          "text": [
            "[ 3  4 -6]\n"
          ]
        }
      ],
      "source": [
        "# Se definene los vectores\n",
        "b = np.array([3,13,4])\n",
        "# Usamos el algoritmo para encontrar la solucion\n",
        "y = sustDelante(L, b)\n",
        "\n",
        "# Se imprime el resultado\n",
        "print(y)"
      ]
    },
    {
      "cell_type": "code",
      "execution_count": null,
      "id": "c68dfbe3",
      "metadata": {
        "id": "c68dfbe3",
        "outputId": "3a7008f2-83b3-45e6-9861-c8d049f12c9e"
      },
      "outputs": [
        {
          "name": "stdout",
          "output_type": "stream",
          "text": [
            "[ 3  4 -2]\n"
          ]
        }
      ],
      "source": [
        "# Usamos el algoritmo para encontrar la solucion\n",
        "x = sustAtras(U, y)\n",
        "\n",
        "# Se imprime el resultado\n",
        "print(x)"
      ]
    },
    {
      "cell_type": "code",
      "execution_count": null,
      "id": "2c720220",
      "metadata": {
        "id": "2c720220",
        "outputId": "40c79895-12a0-4c48-b141-f2f4d2042268"
      },
      "outputs": [
        {
          "name": "stdout",
          "output_type": "stream",
          "text": [
            "[ 3.  4. -2.]\n"
          ]
        }
      ],
      "source": [
        "A= np.array([[1,2,4],[3,8,14],[2,6,13]])\n",
        "b = np.array([3,13,4])\n",
        "#Usamos numpy para validar la solucion\n",
        "print(np.linalg.solve(A,b))"
      ]
    },
    {
      "cell_type": "markdown",
      "id": "ac12b8f0",
      "metadata": {
        "deletable": false,
        "editable": false,
        "id": "ac12b8f0",
        "nbgrader": {
          "cell_type": "markdown",
          "checksum": "8dbacb6700dd7529f765db248fcae726",
          "grade": false,
          "grade_id": "cell-95ebb45e1c2ff320",
          "locked": true,
          "schema_version": 3,
          "solution": false,
          "task": false
        }
      },
      "source": [
        "## (1 Punto) \n",
        "\n",
        "Calcula el número total de operaciones (en términos de $n$) para el algoritmo de sustitución hacia adelante. Muestra el desarrollo y concluye a que orden de complejidad pertenece este algoritmo, ¡Justifica tu respuesta!."
      ]
    },
    {
      "cell_type": "markdown",
      "id": "251206bc",
      "metadata": {
        "id": "251206bc"
      },
      "source": [
        "Usando el algoritmo de substitución:\n",
        "\n",
        "$$y_{i}=\\frac{b_{i}-\\displaystyle\\sum_{j=0}^{i-1}l_{ij}y_{j}}{l_{ii}}\\quad i=0,\\ldots,(n-1)$$\n",
        "tenemos que:"
      ]
    },
    {
      "cell_type": "markdown",
      "id": "a03eefda",
      "metadata": {
        "id": "a03eefda"
      },
      "source": [
        "| $$n$$        | $$i$$            |  $$operacion$$       | $$sumas$$|    $$Multiplicacoines$$|   $$Total$$| \n",
        "| :-:           |    :-:        |  :-:           |    :-:        |     :-:        |  :-:        | \n",
        "| $1$   | $0$     | $y_0 = \\frac{b_0}{l_{00}}$ |$0$|$1$|$2$|\n",
        "| $2$   | $1$     | $y_1 = \\frac{b_1-l_{10}y_0}{l_{11}} $ |$1$|$2$|$3$| \n",
        "| $3$   | $2$     | $y_2 = \\frac{b_2-l_{20}y_0-l_{21}y_1}{l_{22}}$ |$2$|$3$|$6$| \n",
        "| $4$   | $3$     | $y_3 =\\frac{b_3-l_{30}y_0-l_{31}y_1-l_{32}y_2}{l_{33}}$ |$3$|$4$|$8$| \n",
        "| $5$   | $4$     | $y_4 = \\frac{b_4-l_{40}y_0-l_{41}y_1-l_{42}y_2-l_{43}y_3}{l_{44}}$ |$4$|$5$|$10$| \n",
        "| $\\cdots$  | $\\cdots$    | $\\cdots$ |$\\cdots$ | $\\cdots$ |$\\cdots$ |\n",
        "| $\\infty$  | $n-1$      | $y_{i}=\\frac{b_{i}-\\displaystyle\\sum_{j=0}^{i-1}l_{ij}y_{j}}{l_{ii}}$ |$n-1$ |$n$|$\\frac{n(n-1)}{2}$|\n",
        "\n",
        " Recordadno que $\"=\"$ la asigancion de valor es otra operacion, por eso e le agrega 1 al total"
      ]
    },
    {
      "cell_type": "markdown",
      "id": "e18378ee",
      "metadata": {
        "id": "e18378ee"
      },
      "source": [
        "Con ello es orden de complejidad es de $\\frac{n(n-1)}{2}$ el cual sabemos que pertenece $ O(n^{2})$\n",
        "ya que:\n",
        "$$\\frac{n(n-1)}{2} = \\frac{n^2-n}{2}=\\frac{n^2}{2}-\\frac{n}{2} \\leq n^2$$ \n",
        "$$\\therefore subadelante \\in O(n^{2})$$"
      ]
    },
    {
      "cell_type": "markdown",
      "id": "8087f43f",
      "metadata": {
        "deletable": false,
        "editable": false,
        "id": "8087f43f",
        "nbgrader": {
          "cell_type": "markdown",
          "checksum": "5c181e3eafe5ee9c1cd38381e51f162b",
          "grade": false,
          "grade_id": "cell-b5b79f51c4c6ca59",
          "locked": true,
          "schema_version": 3,
          "solution": false,
          "task": false
        }
      },
      "source": [
        "# (21 puntos) Segundo Parcial Parte Práctica\n",
        "\n",
        "Ejecuta las celdas necesarias y valida tus resultados.\n",
        "\n",
        "Observación: Las subsecciones se deben responder de manera consecutiva, ejemplo no se permite responder la subsección 1.2, sin antes haber respondido la subsección 1.1 y de igual manera con el resto de las subsecciones."
      ]
    },
    {
      "cell_type": "markdown",
      "id": "99054145",
      "metadata": {
        "deletable": false,
        "editable": false,
        "id": "99054145",
        "nbgrader": {
          "cell_type": "markdown",
          "checksum": "558f9b01ae6e84ccd7ce7332801bbcfc",
          "grade": false,
          "grade_id": "cell-64406be21f4e21d5",
          "locked": true,
          "schema_version": 3,
          "solution": false,
          "task": false
        }
      },
      "source": [
        "Newton multivariable: Considera el código del jupyter 'Sistemas no lineales', tal cómo se menciona en el mismo documento, el código que se muestra es obsoleto dado que no considera muchas características importantes, tales como: criterios de paro, evitar el cálculo de la inversa y aproximar las derivadas parciales. En cada subsección puedes hacer uso de las funciones de numpy para validar tus resultados.\n",
        "\n",
        "La única subsección que otorga puntos parciales es la subsección 1.1, para cualquier otra subsección debe cumplirse con la totalidad con los puntos que se pide respectivamente y con la validación de resultados.\n",
        "\n",
        "ESTRICTAMENTE PROHIBIDO HACER USO DE FUNCIONES QUE NO ESTEN PERMITIDAS."
      ]
    },
    {
      "cell_type": "code",
      "execution_count": null,
      "id": "edc84ad9",
      "metadata": {
        "deletable": false,
        "editable": false,
        "id": "edc84ad9",
        "nbgrader": {
          "cell_type": "code",
          "checksum": "bc53709d3b3c884472ae4d0b285e3003",
          "grade": true,
          "grade_id": "cell-10c479fa697f5fb6",
          "locked": true,
          "points": 0,
          "schema_version": 3,
          "solution": false,
          "task": false
        },
        "outputId": "6e29948f-49b9-46e5-f377-fc381066cc80"
      },
      "outputs": [
        {
          "name": "stdout",
          "output_type": "stream",
          "text": [
            "Aproximacion de la solucion\n",
            "[0.56714329 0.56714329]\n",
            "Aproximacion evaluada en f1\n",
            "-1.1102230246251565e-16\n",
            "Aproximacion evaluada en f2\n",
            "-1.1102230246251565e-16\n"
          ]
        }
      ],
      "source": [
        "# Seccion 1\n",
        "import numpy as np\n",
        "import math\n",
        "\n",
        "# funcion f1\n",
        "def f1(x1, x2):\n",
        "    return 2*x1-x2-math.e**(-x1)\n",
        "\n",
        "# funcion f2\n",
        "def f2(x1, x2):\n",
        "    return -x1+2*x2-math.e**(-x2)\n",
        "\n",
        "# denominador de la matriz jacobiana\n",
        "def denominador(x1,x2):\n",
        "    return 3+2*math.e**(-x2)+2*math.e**(-x1)+math.e**(-x1-x2)\n",
        "\n",
        "# parcial (en este caso la parcial de f1 y f2 es la misma)\n",
        "def par(x):\n",
        "    return 2+math.e**(-x)\n",
        "\n",
        "'''Metodo de Newton para sistemas\n",
        "   de ecuaciones no lineales\n",
        "   aprox: es la primera aproximacion\n",
        "   en forma de vector'''\n",
        "def JimyNewtron(aprox):\n",
        "    # contador de iteraciones\n",
        "    n = 0 \n",
        "    while n < 100: # maximo numero de iteraciones 100\n",
        "        '''es necesario calcular la matriz jacobiana\n",
        "        y para ello se necesita una matriz vacia de 2x2'''\n",
        "        jacobinv = np.zeros([2,2])\n",
        "        \n",
        "        # valores de la matriz jacobiana en todas sus entradas\n",
        "        jacobinv[0][0] = par(aprox[1])/denominador(aprox[0], aprox[1])\n",
        "        jacobinv[0][1] = 1/denominador(aprox[0], aprox[1])\n",
        "        jacobinv[1][0] = 1/denominador(aprox[0], aprox[1])\n",
        "        jacobinv[1][1] = par(aprox[0])/denominador(aprox[0], aprox[1])\n",
        "    \n",
        "        # guarda la evalucion de f1 y f2 en forma de vector\n",
        "        fx = np.array(aprox)\n",
        "        fx[0] = f1(aprox[0], aprox[1])\n",
        "        fx[1] = f2(aprox[0], aprox[1])\n",
        "        \n",
        "        # FORMA ITERATIVA DEL METODO DE NEWTON PARA SISTEMAS NO LIENALES\n",
        "        aprox = aprox - np.matmul(jacobinv, fx)\n",
        "        \n",
        "        # se incrementa el contador\n",
        "        n+=1\n",
        "    \n",
        "    # El valor devuelto es la aproximacion\n",
        "    return aprox    \n",
        "        \n",
        "def main():\n",
        "    #Aproximacion inicial (X=(0.0,0.0))\n",
        "    ap = np.zeros([2])\n",
        "    sol = JimyNewtron(ap)\n",
        "    print('Aproximacion de la solucion')\n",
        "    print(sol)\n",
        "    print('Aproximacion evaluada en f1')\n",
        "    print(f1(sol[0], sol[1]))\n",
        "    print('Aproximacion evaluada en f2')\n",
        "    print(f2(sol[0], sol[1]))\n",
        "\n",
        "main()"
      ]
    },
    {
      "cell_type": "markdown",
      "id": "480ae94a",
      "metadata": {
        "deletable": false,
        "editable": false,
        "id": "480ae94a",
        "nbgrader": {
          "cell_type": "markdown",
          "checksum": "4e9cc017f3ee73bf8c9e7f20be70fafd",
          "grade": false,
          "grade_id": "cell-7dfafa20252b92e6",
          "locked": true,
          "schema_version": 3,
          "solution": false,
          "task": false
        }
      },
      "source": [
        "## Sección 1.1 (2 puntos)\n",
        "\n",
        "Modifica el código de forma tal que se contemplen los criterios de paro (Ecuaciones no lineales) vistos para métodos numéricos previos. **Unicamente se permite usar las funciones definidas en las subsección Tarea 4**.\n",
        "\n",
        "*   Número máximo de iteraciones N.\n",
        "\n",
        "*   Distancia de la evaluación de la solución menor o igual que la tolerancia $\\left\\Vert F\\left(X^{k}\\right)\\right\\Vert \\leq Tol$.\n",
        "\n",
        "*   Distancia entre la iteración actual $X^{k}$ y la iteración siguiente $X^{k+1}$ menor o igual que la tolerancia ($\\left\\Vert X^{k}-X^{k+1}\\right\\Vert \\leq Tol$).\n",
        "\n",
        "*   Utiliza las 3 normas definidas en la subsección Tarea 4 para los criterios de paro y fijate que sucede con la solución y con el número de iteraciones. Responde en en esta celda ¿Por qué los resultados y el número de iteraciones cambia al usar una norma diferente?."
      ]
    },
    {
      "cell_type": "code",
      "execution_count": null,
      "id": "a99da5b4",
      "metadata": {
        "id": "a99da5b4"
      },
      "outputs": [],
      "source": [
        "import numpy as np\n",
        "\n",
        "def Norma1(vector):\n",
        "    norma = 0\n",
        "    for i in range(len(vector)):\n",
        "        norma += abs(vector[i])\n",
        "    return norma\n",
        "\n",
        "def Norma2(vector):\n",
        "    suma = 0\n",
        "    for i in range(len(vector)):\n",
        "        suma += abs(vector[i])**2\n",
        "    norma = np.sqrt(suma)       \n",
        "    return norma\n",
        "\n",
        "def NormaInf(vector):\n",
        "    vector_abs = []\n",
        "    for i in range(len(vector)):\n",
        "        vector_abs.append(abs(vector[i]))\n",
        "    norma = max(vector_abs)\n",
        "    return norma"
      ]
    },
    {
      "cell_type": "code",
      "execution_count": null,
      "id": "c4b6e295",
      "metadata": {
        "deletable": false,
        "id": "c4b6e295",
        "nbgrader": {
          "cell_type": "code",
          "checksum": "c56eb61b307d81876163c1c36f24bfd4",
          "grade": false,
          "grade_id": "cell-9bc1dd8679c1fa00",
          "locked": false,
          "schema_version": 3,
          "solution": true,
          "task": false
        }
      },
      "outputs": [],
      "source": [
        "'''Metodo de Newton para sistemas\n",
        "   de ecuaciones no lineales\n",
        "   aprox: es la primera aproximacion\n",
        "   en forma de vector'''\n",
        "def JimyNewtron1(aprox):\n",
        "    # contador de iteraciones\n",
        "    n = 0 \n",
        "    #Numero maximo de iteraciones\n",
        "    N=100\n",
        "    #Tolerancia\n",
        "    tol= 0.001\n",
        "    while n < N: # maximo numero de iteraciones N\n",
        "        '''es necesario calcular la matriz jacobiana\n",
        "        y para ello se necesita una matriz vacia de 2x2'''\n",
        "        jacobinv = np.zeros([2,2])\n",
        "        \n",
        "        # valores de la matriz jacobiana en todas sus entradas\n",
        "        jacobinv[0][0] = par(aprox[1])/denominador(aprox[0], aprox[1])\n",
        "        jacobinv[0][1] = 1/denominador(aprox[0], aprox[1])\n",
        "        jacobinv[1][0] = 1/denominador(aprox[0], aprox[1])\n",
        "        jacobinv[1][1] = par(aprox[0])/denominador(aprox[0], aprox[1])\n",
        "         \n",
        " \n",
        "        # guarda la evalucion de f1 y f2 en forma de vector\n",
        "        fx = np.array(aprox)\n",
        "        fx[0] = f1(aprox[0], aprox[1])\n",
        "        fx[1] = f2(aprox[0], aprox[1])\n",
        "       \n",
        "        aprox1 = aprox\n",
        "        #print(aprox1,\"a1\")\n",
        "        \n",
        "        #print(Norma1(aprox1-aprox),\"norma a1\")\n",
        "        \n",
        "        #Criterios de paro \n",
        "        if Norma1(fx)<=tol and Norma1(aprox1-aprox) <= tol:\n",
        "            # El valor devuelto es la aproximacion\n",
        "            return aprox\n",
        "        \n",
        "        # FORMA ITERATIVA DEL METODO DE NEWTON PARA SISTEMAS NO LIENALES\n",
        "        aprox = aprox - np.matmul(jacobinv, fx)\n",
        "        #print(aprox,\"a\")\n",
        "        \n",
        "        #print(fx,Norma1(fx),aprox, Norma1(aprox1-aprox))\n",
        "        # se incrementa el contador\n",
        "        n+=1\n",
        "        "
      ]
    },
    {
      "cell_type": "code",
      "execution_count": null,
      "id": "2638777e",
      "metadata": {
        "deletable": false,
        "editable": false,
        "id": "2638777e",
        "nbgrader": {
          "cell_type": "code",
          "checksum": "60aaeb9e0d33a61165be12949ce764ba",
          "grade": true,
          "grade_id": "cell-1577b01002c3779a",
          "locked": true,
          "points": 0,
          "schema_version": 3,
          "solution": false,
          "task": false
        },
        "outputId": "0f6c8c2a-f05b-4279-e896-3de0f99eaac8"
      },
      "outputs": [
        {
          "name": "stdout",
          "output_type": "stream",
          "text": [
            "Aproximacion de la solucion\n",
            "[0.56714317 0.56714317]\n",
            "Aproximacion evaluada en f1\n",
            "-1.964804716703128e-07\n",
            "Aproximacion evaluada en f2\n",
            "-1.964804716703128e-07\n",
            "\u001b[32m¡Tu resultado es correcto!\n"
          ]
        }
      ],
      "source": [
        "#Aproximacion inicial (X=(0.0,0.0))\n",
        "ap = np.zeros([2])\n",
        "sol = JimyNewtron1(ap)\n",
        "print('Aproximacion de la solucion')\n",
        "print(sol)\n",
        "print('Aproximacion evaluada en f1')\n",
        "print(f1(sol[0], sol[1]))\n",
        "print('Aproximacion evaluada en f2')\n",
        "print(f2(sol[0], sol[1]))\n",
        "\n",
        "evaluacion.verifica(np.array(round(sol[0],2),round(sol[1],2)),1)"
      ]
    },
    {
      "cell_type": "markdown",
      "id": "0d56ba11",
      "metadata": {
        "id": "0d56ba11"
      },
      "source": [
        "### Usando las diferentes normas y su numero de iteraciones\n"
      ]
    },
    {
      "cell_type": "markdown",
      "id": "1ff65556",
      "metadata": {
        "id": "1ff65556"
      },
      "source": [
        "### Norma-1"
      ]
    },
    {
      "cell_type": "code",
      "execution_count": null,
      "id": "8202b322",
      "metadata": {
        "id": "8202b322"
      },
      "outputs": [],
      "source": [
        "'''Metodo de Newton para sistemas\n",
        "   de ecuaciones no lineales\n",
        "   aprox: es la primera aproximacion\n",
        "   en forma de vector'''\n",
        "def JimyNewtronN1(aprox):\n",
        "    # contador de iteraciones\n",
        "    n = 0 \n",
        "    #Numero maximo de iteraciones\n",
        "    N=100\n",
        "    #Tolerancia\n",
        "    tol= 0.001\n",
        "    while n < N: # maximo numero de iteraciones N\n",
        "        '''es necesario calcular la matriz jacobiana\n",
        "        y para ello se necesita una matriz vacia de 2x2'''\n",
        "        jacobinv = np.zeros([2,2])\n",
        "        \n",
        "        # valores de la matriz jacobiana en todas sus entradas\n",
        "        jacobinv[0][0] = par(aprox[1])/denominador(aprox[0], aprox[1])\n",
        "        jacobinv[0][1] = 1/denominador(aprox[0], aprox[1])\n",
        "        jacobinv[1][0] = 1/denominador(aprox[0], aprox[1])\n",
        "        jacobinv[1][1] = par(aprox[0])/denominador(aprox[0], aprox[1])\n",
        "         \n",
        " \n",
        "        # guarda la evalucion de f1 y f2 en forma de vector\n",
        "        fx = np.array(aprox)\n",
        "        fx[0] = f1(aprox[0], aprox[1])\n",
        "        fx[1] = f2(aprox[0], aprox[1])\n",
        "       \n",
        "        aprox1 = aprox\n",
        "        #print(aprox1,\"a1\")\n",
        "        \n",
        "        #print(Norma1(aprox1-aprox),\"norma a1\")\n",
        "        \n",
        "        #Criterios de paro \n",
        "        if Norma1(fx)<=tol and Norma1(aprox1-aprox) <= tol:\n",
        "            # El valor devuelto es la aproximacion\n",
        "            print(f\"numero de iteraciones: {n}\")\n",
        "            return aprox\n",
        "        \n",
        "        # FORMA ITERATIVA DEL METODO DE NEWTON PARA SISTEMAS NO LIENALES\n",
        "        aprox = aprox - np.matmul(jacobinv, fx)\n",
        "        #print(aprox,\"a\")\n",
        "        \n",
        "        print(fx,Norma1(fx),aprox, Norma1(aprox1-aprox))\n",
        "        # se incrementa el contador\n",
        "        n+=1\n",
        "        "
      ]
    },
    {
      "cell_type": "code",
      "execution_count": null,
      "id": "b1912922",
      "metadata": {
        "id": "b1912922",
        "outputId": "d699e71a-defe-404f-80f8-335309325251"
      },
      "outputs": [
        {
          "name": "stdout",
          "output_type": "stream",
          "text": [
            "[-1. -1.] 2.0 [0.5 0.5] 1.0\n",
            "[-0.10653066 -0.10653066] 0.21306131942526685 [0.566311 0.566311] 0.13262200639443633\n",
            "[-0.00130451 -0.00130451] 0.0026090196120402975 [0.56714317 0.56714317] 0.0016643236752882373\n",
            "numero de iteraciones3\n",
            "Aproximacion de la solucion\n",
            "[0.56714317 0.56714317]\n",
            "Aproximacion evaluada en f1\n",
            "-1.964804716703128e-07\n",
            "Aproximacion evaluada en f2\n",
            "-1.964804716703128e-07\n"
          ]
        }
      ],
      "source": [
        "#Aproximacion inicial (X=(0.0,0.0))\n",
        "ap = np.zeros([2])\n",
        "sol = JimyNewtronN1(ap)\n",
        "print('Aproximacion de la solucion')\n",
        "print(sol)\n",
        "print('Aproximacion evaluada en f1')\n",
        "print(f1(sol[0], sol[1]))\n",
        "print('Aproximacion evaluada en f2')\n",
        "print(f2(sol[0], sol[1]))"
      ]
    },
    {
      "cell_type": "markdown",
      "id": "d896ab62",
      "metadata": {
        "id": "d896ab62"
      },
      "source": [
        "### Norma-2"
      ]
    },
    {
      "cell_type": "code",
      "execution_count": null,
      "id": "55b6f2e9",
      "metadata": {
        "id": "55b6f2e9"
      },
      "outputs": [],
      "source": [
        "'''Metodo de Newton para sistemas\n",
        "   de ecuaciones no lineales\n",
        "   aprox: es la primera aproximacion\n",
        "   en forma de vector'''\n",
        "def JimyNewtronN2(aprox):\n",
        "    # contador de iteraciones\n",
        "    n = 0 \n",
        "    #Numero maximo de iteraciones\n",
        "    N=100\n",
        "    #Tolerancia\n",
        "    tol= 0.001\n",
        "    while n < N: # maximo numero de iteraciones N\n",
        "        '''es necesario calcular la matriz jacobiana\n",
        "        y para ello se necesita una matriz vacia de 2x2'''\n",
        "        jacobinv = np.zeros([2,2])\n",
        "        \n",
        "        # valores de la matriz jacobiana en todas sus entradas\n",
        "        jacobinv[0][0] = par(aprox[1])/denominador(aprox[0], aprox[1])\n",
        "        jacobinv[0][1] = 1/denominador(aprox[0], aprox[1])\n",
        "        jacobinv[1][0] = 1/denominador(aprox[0], aprox[1])\n",
        "        jacobinv[1][1] = par(aprox[0])/denominador(aprox[0], aprox[1])\n",
        "         \n",
        " \n",
        "        # guarda la evalucion de f1 y f2 en forma de vector\n",
        "        fx = np.array(aprox)\n",
        "        fx[0] = f1(aprox[0], aprox[1])\n",
        "        fx[1] = f2(aprox[0], aprox[1])\n",
        "       \n",
        "        aprox1 = aprox\n",
        "        #print(aprox1,\"a1\")\n",
        "        \n",
        "        #print(Norma1(aprox1-aprox),\"norma a1\")\n",
        "        \n",
        "        #Criterios de paro \n",
        "        if Norma2(fx)<=tol and Norma2(aprox1-aprox) <= tol:\n",
        "            # El valor devuelto es la aproximacion\n",
        "            print(f\"numero de iteraciones: {n}\")\n",
        "            return aprox\n",
        "        \n",
        "        # FORMA ITERATIVA DEL METODO DE NEWTON PARA SISTEMAS NO LIENALES\n",
        "        aprox = aprox - np.matmul(jacobinv, fx)\n",
        "        #print(aprox,\"a\")\n",
        "        \n",
        "        #print(fx,Norma1(fx),aprox, Norma1(aprox1-aprox))\n",
        "        # se incrementa el contador\n",
        "        n+=1"
      ]
    },
    {
      "cell_type": "code",
      "execution_count": null,
      "id": "ec297758",
      "metadata": {
        "id": "ec297758",
        "outputId": "a4ef0c50-5783-42d4-9693-8e3392832ba1"
      },
      "outputs": [
        {
          "name": "stdout",
          "output_type": "stream",
          "text": [
            "numero de iteraciones: 3\n",
            "Aproximacion de la solucion\n",
            "[0.56714317 0.56714317]\n",
            "Aproximacion evaluada en f1\n",
            "-1.964804716703128e-07\n",
            "Aproximacion evaluada en f2\n",
            "-1.964804716703128e-07\n"
          ]
        }
      ],
      "source": [
        "#Aproximacion inicial (X=(0.0,0.0))\n",
        "ap = np.zeros([2])\n",
        "sol = JimyNewtronN2(ap)\n",
        "print('Aproximacion de la solucion')\n",
        "print(sol)\n",
        "print('Aproximacion evaluada en f1')\n",
        "print(f1(sol[0], sol[1]))\n",
        "print('Aproximacion evaluada en f2')\n",
        "print(f2(sol[0], sol[1]))\n"
      ]
    },
    {
      "cell_type": "markdown",
      "id": "8176ff01",
      "metadata": {
        "id": "8176ff01"
      },
      "source": [
        "### Norma-infinito"
      ]
    },
    {
      "cell_type": "code",
      "execution_count": null,
      "id": "1f3ab3c7",
      "metadata": {
        "id": "1f3ab3c7"
      },
      "outputs": [],
      "source": [
        "'''Metodo de Newton para sistemas\n",
        "   de ecuaciones no lineales\n",
        "   aprox: es la primera aproximacion\n",
        "   en forma de vector'''\n",
        "def JimyNewtron_inf(aprox):\n",
        "    # contador de iteraciones\n",
        "    n = 0 \n",
        "    #Numero maximo de iteraciones\n",
        "    N=100\n",
        "    #Tolerancia\n",
        "    tol= 0.001\n",
        "    while n < N: # maximo numero de iteraciones N\n",
        "        '''es necesario calcular la matriz jacobiana\n",
        "        y para ello se necesita una matriz vacia de 2x2'''\n",
        "        jacobinv = np.zeros([2,2])\n",
        "        \n",
        "        # valores de la matriz jacobiana en todas sus entradas\n",
        "        jacobinv[0][0] = par(aprox[1])/denominador(aprox[0], aprox[1])\n",
        "        jacobinv[0][1] = 1/denominador(aprox[0], aprox[1])\n",
        "        jacobinv[1][0] = 1/denominador(aprox[0], aprox[1])\n",
        "        jacobinv[1][1] = par(aprox[0])/denominador(aprox[0], aprox[1])\n",
        "         \n",
        " \n",
        "        # guarda la evalucion de f1 y f2 en forma de vector\n",
        "        fx = np.array(aprox)\n",
        "        fx[0] = f1(aprox[0], aprox[1])\n",
        "        fx[1] = f2(aprox[0], aprox[1])\n",
        "       \n",
        "        aprox1 = aprox\n",
        "        #print(aprox1,\"a1\")\n",
        "        \n",
        "        #print(Norma1(aprox1-aprox),\"norma a1\")\n",
        "        \n",
        "        #Criterios de paro \n",
        "        if NormaInf(fx)<=tol and NormaInf(aprox1-aprox) <= tol:\n",
        "            # El valor devuelto es la aproximacion\n",
        "            print(f\"numero de iteraciones: {n}\")\n",
        "            return aprox\n",
        "        \n",
        "        # FORMA ITERATIVA DEL METODO DE NEWTON PARA SISTEMAS NO LIENALES\n",
        "        aprox = aprox - np.matmul(jacobinv, fx)\n",
        "        #print(aprox,\"a\")\n",
        "        \n",
        "        #print(fx,Norma1(fx),aprox, Norma1(aprox1-aprox))\n",
        "        # se incrementa el contador\n",
        "        n+=1"
      ]
    },
    {
      "cell_type": "code",
      "execution_count": null,
      "id": "2321fa52",
      "metadata": {
        "id": "2321fa52",
        "outputId": "a4a4ba92-d98a-4753-f8dc-6eb859d8700b"
      },
      "outputs": [
        {
          "name": "stdout",
          "output_type": "stream",
          "text": [
            "numero de iteraciones: 3\n",
            "Aproximacion de la solucion\n",
            "[0.56714317 0.56714317]\n",
            "Aproximacion evaluada en f1\n",
            "-1.964804716703128e-07\n",
            "Aproximacion evaluada en f2\n",
            "-1.964804716703128e-07\n"
          ]
        }
      ],
      "source": [
        "#Aproximacion inicial (X=(0.0,0.0))\n",
        "ap = np.zeros([2])\n",
        "sol = JimyNewtron_inf(ap)\n",
        "print('Aproximacion de la solucion')\n",
        "print(sol)\n",
        "print('Aproximacion evaluada en f1')\n",
        "print(f1(sol[0], sol[1]))\n",
        "print('Aproximacion evaluada en f2')\n",
        "print(f2(sol[0], sol[1]))\n"
      ]
    },
    {
      "cell_type": "markdown",
      "id": "225f71dd",
      "metadata": {
        "id": "225f71dd"
      },
      "source": [
        "En conclusion, con cualquiera de las 3 normas, el numero de iteraciones sigue siendo el mismo, sin embargo, a la hora de calcular los valores de cada norma, se puede observar como por ejemplo la norma infinito se hace ma \"pequeña\" mas rapido, es decir, vuelve la distancia de las iteraciones menores o iguales a la tol, mas rapido."
      ]
    },
    {
      "cell_type": "markdown",
      "id": "8da9c24c",
      "metadata": {
        "deletable": false,
        "editable": false,
        "id": "8da9c24c",
        "nbgrader": {
          "cell_type": "markdown",
          "checksum": "0f0f7c9579f384a6abc473a1ae9f978b",
          "grade": false,
          "grade_id": "cell-82a11d5d1228434c",
          "locked": true,
          "schema_version": 3,
          "solution": false,
          "task": false
        }
      },
      "source": [
        "## Sección 1.2 (+2 puntos)\n",
        "\n",
        "En el código mostrado en la sección 1, se calcula la inversa del Jacobiano (lo cuál es un desperdicio de recursos). Modifica el código actual de la subsección 1.2, de tal manera que en lugar de calcular la inversa del Jacobiano, se resuelva el sistema lineal $\\left[F'\\left(\\vec{X}\\right)\\right]H=-F\\left(\\vec{X}\\right)$ (sistema lineal Jacobiano) para encontrar $H$ y modificar la solución actual, tal como se muestra en la sección del desarrollo en series de Taylor del jupyter [Sistemas no Lineales](../../MACTI-analisisnumerico/02_EcuacionesNoLineales/02_SistemasNoLineales.ipynb).\n",
        "\n",
        "*    Para este inciso puedes usar el método $np.linalg.solve(\\left[F'\\left(\\vec{X}\\right)\\right], -F\\left(\\vec{X}\\right))$.\n",
        "\n"
      ]
    },
    {
      "cell_type": "code",
      "execution_count": null,
      "id": "e0b17381",
      "metadata": {
        "deletable": false,
        "id": "e0b17381",
        "nbgrader": {
          "cell_type": "code",
          "checksum": "ebd1c15e6a08aea8b5e0022fd4daf822",
          "grade": false,
          "grade_id": "cell-435e5893f6124d78",
          "locked": false,
          "schema_version": 3,
          "solution": true,
          "task": false
        }
      },
      "outputs": [],
      "source": [
        "# Seccion 1\n",
        "import numpy as np\n",
        "import math\n",
        "#La funcion jacobiano, solo devuelve el jacobiano de la funcion ya definida\n",
        "def jacobiano(x):\n",
        "    return np.array([[par(x[0]), -1],[-1,par(x[1])]])\n",
        "\n",
        "def Norma2(vector):\n",
        "    suma = 0\n",
        "    for i in range(len(vector)):\n",
        "        suma += abs(vector[i])**2\n",
        "    norma = np.sqrt(suma)       \n",
        "    return norma\n",
        "\n",
        "\n",
        "'''Metodo de Newton para sistemas\n",
        "   de ecuaciones no lineales\n",
        "   aprox: es la primera aproximacion\n",
        "   en forma de vector'''\n",
        "def JimyNewtron2(aprox):\n",
        "    # contador de iteraciones\n",
        "    n = 0 \n",
        "    #Numero maximo de iteraciones\n",
        "    N=100\n",
        "    #Tolerancia\n",
        "    tol= 0.001\n",
        "    while n < N: # maximo numero de iteraciones N\n",
        "      \n",
        "        # guarda la evalucion de f1 y f2 en forma de vector\n",
        "        fx = np.array(aprox)\n",
        "        fx[0] = f1(aprox[0], aprox[1])\n",
        "        fx[1] = f2(aprox[0], aprox[1])\n",
        "        \n",
        "        #Calculo del jacobiano\n",
        "        Df = jacobiano(aprox)\n",
        "        \n",
        "        #Uso denumpy para resolver el sitema de ecuaciones\n",
        "        H= np.linalg.solve(Df,-fx)\n",
        "        \n",
        "        aprox1 = aprox\n",
        "        #print(aprox1,\"a1\")\n",
        "        \n",
        "        #print(Norma1(aprox1-aprox),\"norma a1\")\n",
        "        \n",
        "        #Criterios de paro \n",
        "        if Norma2(fx)<=tol and Norma2(aprox1-aprox) <= tol:\n",
        "            # El valor devuelto es la aproximacion\n",
        "            #print(f\"numero de iteraciones: {n}\")\n",
        "            return aprox\n",
        "        \n",
        "        # FORMA ITERATIVA DEL METODO DE NEWTON PARA SISTEMAS NO LIENALES\n",
        "        aprox = aprox + H\n",
        "        #print(aprox,\"a\")\n",
        "        \n",
        "        #print(fx,Norma2(fx),aprox, Norma2(aprox1-aprox))\n",
        "        # se incrementa el contador\n",
        "        n+=1\n"
      ]
    },
    {
      "cell_type": "code",
      "execution_count": null,
      "id": "1595a6fc",
      "metadata": {
        "deletable": false,
        "editable": false,
        "id": "1595a6fc",
        "nbgrader": {
          "cell_type": "code",
          "checksum": "9be703d67309e2786e237f31399c523a",
          "grade": true,
          "grade_id": "cell-bc311eca50760859",
          "locked": true,
          "points": 0,
          "schema_version": 3,
          "solution": false,
          "task": false
        },
        "outputId": "df55fb29-b101-403b-b812-6642c3e9c22c"
      },
      "outputs": [
        {
          "name": "stdout",
          "output_type": "stream",
          "text": [
            "Aproximacion de la solucion\n",
            "[0.56714317 0.56714317]\n",
            "Aproximacion evaluada en f1\n",
            "-1.964804716703128e-07\n",
            "Aproximacion evaluada en f2\n",
            "-1.964804716703128e-07\n",
            "\u001b[32m¡Tu resultado es correcto!\n"
          ]
        }
      ],
      "source": [
        "#Aproximacion inicial (X=(0.0,0.0))\n",
        "ap = np.zeros([2])\n",
        "sol = JimyNewtron2(ap)\n",
        "print('Aproximacion de la solucion')\n",
        "print(sol)\n",
        "print('Aproximacion evaluada en f1')\n",
        "print(f1(sol[0], sol[1]))\n",
        "print('Aproximacion evaluada en f2')\n",
        "print(f2(sol[0], sol[1]))\n",
        "\n",
        "evaluacion.verifica(np.array(round(sol[0],2),round(sol[1],2)),2)"
      ]
    },
    {
      "cell_type": "markdown",
      "id": "25289090",
      "metadata": {
        "deletable": false,
        "editable": false,
        "id": "25289090",
        "nbgrader": {
          "cell_type": "markdown",
          "checksum": "3555b9285d356d43ff985c0467858597",
          "grade": false,
          "grade_id": "cell-1fdb6b7b56b1eb79",
          "locked": true,
          "schema_version": 3,
          "solution": false,
          "task": false
        }
      },
      "source": [
        "## Sección 1.3 (+3 puntos) \n",
        "\n",
        "Modifica el código de la subsección 1.2 y substituye el solver de numpy (`np.linalg.solve()`) por nuestros respectivos métodos. Utiliza los métodos vistos en clase:\n",
        "\n",
        "*   `descomposicionLU`: factoriza una matriz en dos matrices L (lower) y U (upper).\n",
        "\n",
        "*   `sustDelante`: algoritmo para la substitución hacia adelante.\n",
        "\n",
        "*   `sustAtras`: algoritmo para la sustitución hacia atrás.\n",
        "\n",
        "*   En suma, estos 3 métodos pueden substituir el método `np.linal.solve()` de *numpy*. De tal manera que ahora la forma de calcular $H$ se vea de la siguiente manera.\n",
        "   \n",
        "   `#H = np.linalg.solve(jacob, -fx) `         \n",
        "   `H = solver(jacob, -fx)`\n",
        "*   Donde `solver()` es la unión de los métodos antes descritos (`descomposicionLU`, `sustDelante`, `sustAtras`)."
      ]
    },
    {
      "cell_type": "code",
      "execution_count": null,
      "id": "47d02f2a",
      "metadata": {
        "id": "47d02f2a"
      },
      "outputs": [],
      "source": [
        "\n",
        "import numpy as np\n",
        "import math\n",
        "\n",
        "# algoritmo para descomposicion A=LU\n",
        "# la matriz A ya esta dada\n",
        "def factorizacionLU(A):\n",
        "    # dimension de la matriz\n",
        "    n = len(A)\n",
        "    # matriz L inicialmente es la identidad\n",
        "    L = np.identity(n)\n",
        "    # inicialmente la matriz A y la matriz U son iguales\n",
        "    U = np.zeros((n,n))\n",
        "    for i in range(0,n):\n",
        "        for j in range(0,n):\n",
        "            U[i][j] = A[i][j]\n",
        "    # eliminacion gaussiana\n",
        "    for i in range(0,n):\n",
        "        for j in range(i+1,n):\n",
        "            # guardar los factores de eliminacion gaussiana \n",
        "            # en la matriz L\n",
        "            factor = U[j][i]/U[i][i]\n",
        "            L[j][i] = factor\n",
        "            # realizar eliminacion gaussiana en la matriz U\n",
        "            # para quedar de forma triangular superior\n",
        "            for k in range(i,n):\n",
        "                U[j][k] = U[j][k] - factor*U[i][k]\n",
        "    return L,U\n",
        "\n",
        "# algoritmo para sustitucion hacia delante\n",
        "# n es el tamano de la dimension del problema\n",
        "# matriz L, vector b ya estan dados como parametros\n",
        "# guardar los resultados en el vector y\n",
        "# Ly=b\n",
        "def sustDelante(L, b):\n",
        "    n=len(L)\n",
        "    y=np.empty_like(b)\n",
        "    y[0] = b[0]\n",
        "    for i in range(1,n):\n",
        "        y[i] = b[i]\n",
        "        for j in range(0,i):\n",
        "            y[i] -= L[i][j]*y[j]\n",
        "    return y\n",
        "\n",
        "# algoritmo para sustitucion hacia atras\n",
        "# n es el tamano de la dimension del problema\n",
        "# matriz U, vector y ya estan dados como parametros\n",
        "# guardar los resultados en el vector x\n",
        "# Ux=y\n",
        "def sustAtras(U, y):\n",
        "    n=len(U)\n",
        "    x=np.empty_like(y)\n",
        "    x[n-1] = y[n-1]/U[n-1][n-1]\n",
        "    for i in range(n-2,-1,-1):\n",
        "        x[i] = y[i]\n",
        "        for j in range(i+1,n):\n",
        "            x[i] -= U[i][j]*x[j]\n",
        "        x[i] /= U[i][i]\n",
        "    return x\n",
        "\n",
        "#Funcion solver, creada con el metodo LU y sustitucion\n",
        "def solver(A,b):\n",
        "    L,U=factorizacionLU(A)\n",
        "    #Sustitucion adelante\n",
        "    y = sustDelante(L, b)\n",
        "    #sustitucion hacia atras\n",
        "    resul = sustAtras(U, y)\n",
        "    return resul\n",
        "    "
      ]
    },
    {
      "cell_type": "code",
      "execution_count": null,
      "id": "fffdd28b",
      "metadata": {
        "deletable": false,
        "id": "fffdd28b",
        "nbgrader": {
          "cell_type": "code",
          "checksum": "9cc1d6521b0fe52ea45e0d63408d13e0",
          "grade": false,
          "grade_id": "cell-c6f0cb7e9149b94b",
          "locked": false,
          "schema_version": 3,
          "solution": true,
          "task": false
        }
      },
      "outputs": [],
      "source": [
        "'''Metodo de Newton para sistemas\n",
        "   de ecuaciones no lineales\n",
        "   aprox: es la primera aproximacion\n",
        "   en forma de vector'''\n",
        "def JimyNewtron3(aprox):\n",
        "    # contador de iteraciones\n",
        "    n = 0 \n",
        "    #Numero maximo de iteraciones\n",
        "    N=100\n",
        "    #Tolerancia\n",
        "    tol= 0.001\n",
        "    while n < N: # maximo numero de iteraciones N\n",
        "       \n",
        "        # guarda la evalucion de f1 y f2 en forma de vector\n",
        "        fx = np.array(aprox)\n",
        "        fx[0] = f1(aprox[0], aprox[1])\n",
        "        fx[1] = f2(aprox[0], aprox[1])\n",
        "        \n",
        "        #Calculo del jacobiano definido en la seccion anterior\n",
        "        Df = jacobiano(aprox)\n",
        "        #Uso de la funcion definida solver, con los metodos LU\n",
        "        H = solver(Df,-fx)\n",
        "        #H= np.linalg.solve(Df,-fx)\n",
        "        \n",
        "        aprox1 = aprox\n",
        "        #print(aprox1,\"a1\")\n",
        "        \n",
        "        #print(Norma1(aprox1-aprox),\"norma a1\")\n",
        "        \n",
        "        \n",
        "        #Criterios de paro \n",
        "        if Norma2(fx)<=tol and Norma2(aprox1-aprox) <= tol:\n",
        "            # El valor devuelto es la aproximacion\n",
        "            #print(f\"numero de iteraciones: {n}\")\n",
        "            return aprox\n",
        "        \n",
        "        # FORMA ITERATIVA DEL METODO DE NEWTON PARA SISTEMAS NO LIENALES\n",
        "        aprox = aprox + H\n",
        "        #print(aprox,\"a\")\n",
        "        \n",
        "        #print(fx,Norma2(fx),aprox, Norma2(aprox1-aprox))\n",
        "        # se incrementa el contador\n",
        "        n+=1\n"
      ]
    },
    {
      "cell_type": "code",
      "execution_count": null,
      "id": "967d6d13",
      "metadata": {
        "deletable": false,
        "editable": false,
        "id": "967d6d13",
        "nbgrader": {
          "cell_type": "code",
          "checksum": "d3716813fa5626fe7752480b34b52217",
          "grade": true,
          "grade_id": "cell-de96dfb8cc375a33",
          "locked": true,
          "points": 0,
          "schema_version": 3,
          "solution": false,
          "task": false
        },
        "outputId": "328fa037-adf4-45c7-8fbf-aa4d19b53238"
      },
      "outputs": [
        {
          "name": "stdout",
          "output_type": "stream",
          "text": [
            "Aproximacion de la solucion\n",
            "[0.56714317 0.56714317]\n",
            "Aproximacion evaluada en f1\n",
            "-1.964804716703128e-07\n",
            "Aproximacion evaluada en f2\n",
            "-1.964804716703128e-07\n",
            "\u001b[32m¡Tu resultado es correcto!\n"
          ]
        }
      ],
      "source": [
        "#Aproximacion inicial (X=(0.0,0.0))\n",
        "ap = np.zeros([2])\n",
        "sol = JimyNewtron3(ap)\n",
        "print('Aproximacion de la solucion')\n",
        "print(sol)\n",
        "print('Aproximacion evaluada en f1')\n",
        "print(f1(sol[0], sol[1]))\n",
        "print('Aproximacion evaluada en f2')\n",
        "print(f2(sol[0], sol[1]))\n",
        "\n",
        "evaluacion.verifica(np.array(round(sol[0],2),round(sol[1],2)),3)"
      ]
    },
    {
      "cell_type": "markdown",
      "id": "84be81f1",
      "metadata": {
        "deletable": false,
        "editable": false,
        "id": "84be81f1",
        "nbgrader": {
          "cell_type": "markdown",
          "checksum": "1bb54cc46fc55eba027657968e562219",
          "grade": false,
          "grade_id": "cell-b9ddaca0ff90f142",
          "locked": true,
          "schema_version": 3,
          "solution": false,
          "task": false
        }
      },
      "source": [
        "## Sección 1.4 (+3 Puntos) \n",
        "\n",
        "Hasta este punto en el código de la subsección 1.3, las derivadas parciales empleadas para el cálculo del Jacobiano se definen en código duro (hard code).\n",
        "\n",
        "*   Mediante el método:\n",
        "\n",
        "`#parcial (en este caso la parcial de f1 y f2 es la misma) \n",
        "def par(x):     \n",
        "\treturn 2+math.e**(-x)`\n",
        "\n",
        "*   Modifica el código de la subsección 1.3 y encuentra alguna forma de aproximar las derivadas parciales, de tal manera que podamos aproximar las parciales de cualquier función $F\\left(\\vec{X}\\right)$ con $\\vec{X}\\in\\mathbb{R}^{n}$ y no tengamos que estar restringidos a emplear las parciales definidas de $f_{1}$ y $f_{2}$.\n",
        "\n",
        "*   Sugerencia, el código debería verse similar a este.\n",
        "\n",
        "`# F es una función vectorial\n",
        "def parcial(F, X, var, delta):\n",
        "devuelve la parcial de F en el punto X con respecto a la variable var usando delta`\n",
        "\n",
        "*   Para la función parcial, basta con hacer uso de operaciones sobre listas de python y operaciones aritméticas elementales $\\left(+,-,\\times,\\div\\right)$. Para esta función solo se permite hacer uso de estas operadores aritméticos y funciones sobre listas (NO TE COMPLIQUES MAS DE LO NECESARIO)."
      ]
    },
    {
      "cell_type": "code",
      "execution_count": null,
      "id": "e0d37579",
      "metadata": {
        "deletable": false,
        "id": "e0d37579",
        "nbgrader": {
          "cell_type": "code",
          "checksum": "f70a92b4611fb72dd13d496bcaf0854b",
          "grade": false,
          "grade_id": "cell-5871aac0d96ea8fb",
          "locked": false,
          "schema_version": 3,
          "solution": true,
          "task": false
        }
      },
      "outputs": [],
      "source": [
        "import numpy as np\n",
        "\n",
        "def parcial(F, X, var, delta):\n",
        "    \"\"\"\n",
        "    Calcula la derivada parcial de la función vectorial F en el punto X con respecto a la variable var\n",
        "    utilizando un tamaño de paso delta.\n",
        "    \"\"\"\n",
        "    # Copia el punto X para no modificarlo\n",
        "    X_h = np.copy(X)\n",
        "    \n",
        "    # Aproxima la derivada parcial de F en X con respecto a la variable var \n",
        "    X_h[var] += delta\n",
        "    F_h = F(X_h)\n",
        "    X_h[var] -= delta\n",
        "    F_x = F(X)\n",
        "    df_dx = (F_h - F_x) / delta\n",
        "    \n",
        "    return df_dx\n",
        "\n",
        "#Funcion vectorial\n",
        "def F(X):\n",
        "    x1, x2 = X\n",
        "    return np.array([2*x1-x2-math.e**(-x1),-x1+2*x2-math.e**(-x2)])\n",
        "\n",
        "# funcion f1\n",
        "def f1(x1, x2):\n",
        "    return 2*x1-x2-math.e**(-x1)\n",
        "\n",
        "# funcion f2\n",
        "def f2(x1, x2):\n",
        "    return -x1+2*x2-math.e**(-x2)\n",
        "\n",
        "'''Metodo de Newton para sistemas\n",
        "   de ecuaciones no lineales\n",
        "   aprox: es la primera aproximacion\n",
        "   en forma de vector'''\n",
        "def JimyNewtron4(aprox):\n",
        "    # contador de iteraciones\n",
        "    n = 0 \n",
        "    #Numero maximo de iteraciones\n",
        "    N=100\n",
        "    #Tolerancia\n",
        "    tol= 0.001\n",
        "    while n < N: # maximo numero de iteraciones N\n",
        "        \n",
        "        J = np.zeros([2,2])\n",
        "        # guarda la evalucion de f1 y f2 en forma de vector\n",
        "        fx = np.array(aprox)\n",
        "        fx[0] = f1(aprox[0], aprox[1])\n",
        "        fx[1] = f2(aprox[0], aprox[1])\n",
        "        \n",
        "        #Calculo del jacobiano con las parciales\n",
        "        for i in range(2):\n",
        "            J[:, i] = parcial(F, aprox, i, tol)\n",
        "            \n",
        "        Df = J\n",
        "        \n",
        "        #Uso delsolver ya definido para encontrar la aproximacion\n",
        "        H = solver(Df,-fx)\n",
        "        \n",
        "        aprox1 = aprox\n",
        "        \n",
        "        \n",
        "        #Criterios de paro\n",
        "        if Norma2(fx)<=tol and Norma2(aprox1-aprox) <= tol:\n",
        "            # El valor devuelto es la aproximacion\n",
        "            return aprox\n",
        "        \n",
        "        # FORMA ITERATIVA DEL METODO DE NEWTON PARA SISTEMAS NO LIENALES\n",
        "        aprox = aprox + H\n",
        "        \n",
        "        # se incrementa el contador\n",
        "        n+=1\n"
      ]
    },
    {
      "cell_type": "code",
      "execution_count": null,
      "id": "eb3b04ad",
      "metadata": {
        "deletable": false,
        "editable": false,
        "id": "eb3b04ad",
        "nbgrader": {
          "cell_type": "code",
          "checksum": "dcbc82ebeb655d6970b71d443f8420bf",
          "grade": true,
          "grade_id": "cell-5a739aeffe9704f7",
          "locked": true,
          "points": 0,
          "schema_version": 3,
          "solution": false,
          "task": false
        },
        "outputId": "0d9a6a17-ba75-40c3-eefa-e2c8cf1e0574"
      },
      "outputs": [
        {
          "name": "stdout",
          "output_type": "stream",
          "text": [
            "[-1. -1.] 1.4142135623730951 [0.50012499 0.50012499] 0.7072835431467422\n",
            "[-0.10632986 -0.10632986] 0.15037313696551965 [0.56632662 0.56632662] 0.09362324513829481\n",
            "[-0.00128003 -0.00128003] 0.0018102315674915488 [0.56714332 0.56714332] 0.0011549831384622406\n",
            "Aproximacion de la solucion\n",
            "[0.56714332 0.56714332]\n",
            "Aproximacion evaluada en f1\n",
            "4.2460598703719654e-08\n",
            "Aproximacion evaluada en f2\n",
            "4.2460598703719654e-08\n",
            "\u001b[32m¡Tu resultado es correcto!\n"
          ]
        }
      ],
      "source": [
        "#Aproximacion inicial (X=(0.0,0.0))\n",
        "ap = np.zeros([2])\n",
        "sol = JimyNewtron4(ap)\n",
        "print('Aproximacion de la solucion')\n",
        "print(sol)\n",
        "print('Aproximacion evaluada en f1')\n",
        "print(f1(sol[0], sol[1]))\n",
        "print('Aproximacion evaluada en f2')\n",
        "print(f2(sol[0], sol[1]))\n",
        "\n",
        "evaluacion.verifica(np.array(round(sol[0],2),round(sol[1],2)),4)"
      ]
    },
    {
      "cell_type": "markdown",
      "id": "6d9e6423",
      "metadata": {
        "deletable": false,
        "editable": false,
        "id": "6d9e6423",
        "nbgrader": {
          "cell_type": "markdown",
          "checksum": "9f4b3aac22886235581f34ee417917a2",
          "grade": false,
          "grade_id": "cell-aca12ff88b7245c4",
          "locked": true,
          "schema_version": 3,
          "solution": false,
          "task": false
        }
      },
      "source": [
        "## Sección 1.5 (+10 Puntos)\n",
        "\n",
        "Modifica el código de la subsección 1.4 de tal manera que la función `JimyNewtron` sea capaz de resolver cualquier sistema de n ecuaciones no lineales con n incognitas, no solamente uno de $2x2$ como lo hace actualmente. En otras palabras, actualmente `JimyNewtron` resuelve el siguiente sistema.\n",
        "\n",
        "$$F\\left(\\vec{X}\\right)=\\begin{cases}\n",
        "f_{1}\\left(x_{1},x_{2}\\right)\\\\\n",
        "f_{2}\\left(x_{1},x_{2}\\right)\n",
        "\\end{cases}$$\n",
        "\n",
        "Para obtener los 10 puntos de esta subsección debes modificar el código de la subsección 1.4, de tal manera que ahora sea capaz de resolver sistemas de n ecuaciones no lineales con n incognitas.\n",
        "\n",
        "$$F\\left(\\vec{X}\\right)=\\begin{cases}\n",
        "f_{1}\\left(x_{1},x_{2},\\ldots x_{n}\\right)\\\\\n",
        "f_{2}\\left(x_{1},x_{2},\\ldots x_{n}\\right)\\\\\n",
        "\\cdots\\\\\n",
        "f_{n}\\left(x_{1},x_{2},\\ldots x_{n}\\right)\n",
        "\\end{cases}$$\n",
        "\n",
        "Realiza tus pruebas y valida tus resultados."
      ]
    },
    {
      "cell_type": "markdown",
      "id": "cad198d0",
      "metadata": {
        "deletable": false,
        "editable": false,
        "id": "cad198d0",
        "nbgrader": {
          "cell_type": "markdown",
          "checksum": "5fa40df778481ee75ec99d172dbd82a2",
          "grade": false,
          "grade_id": "cell-4ace6c28b93a7ed8",
          "locked": true,
          "schema_version": 3,
          "solution": false,
          "task": false
        }
      },
      "source": [
        "## Validación\n",
        "\n",
        "Antes de enviar tu examen valida tus resultados, **NO ENVIES CODIGO QUE NO HAYA SIDO VALIDADO**. En una celda de códio prueba tu algoritmo, es decir."
      ]
    },
    {
      "cell_type": "markdown",
      "id": "3c57944f",
      "metadata": {
        "id": "3c57944f"
      },
      "source": [
        "Con todas las secciones anteriores, ya podemos hacer uso de las funciones definidas, para poder calcular cualquier aproximacion con el metodo JimyNewtron para una funcion vectorial de n entradas."
      ]
    },
    {
      "cell_type": "code",
      "execution_count": null,
      "id": "02ef319f",
      "metadata": {
        "id": "02ef319f"
      },
      "outputs": [],
      "source": [
        "#Es necesario que se defina la funcion vecorial a la cual se le quiere calcular la aproximacion\n",
        "\n",
        "#Funcion vectorial\n",
        "def F1(X):\n",
        "    x1,x2 = X\n",
        "    return np.array([2*x1-x2-math.e**(-x1),-x1+2*x2-math.e**(-x2)])\n",
        "\n",
        "#Calculo de la parcial de las entradas de la funcion\n",
        "def parcial_vectorial(F, X, variable, delta):\n",
        "    n = len(F(X))\n",
        "    resultado = []\n",
        "    try:\n",
        "        i = int(variable)\n",
        "    except ValueError:\n",
        "        raise ValueError(\"La variable debe ser un índice entero.\")\n",
        "    X_delta = X.copy()\n",
        "    X_delta[i] += delta\n",
        "    for j in range(n):\n",
        "        resultado.append((F(X_delta)[j] - F(X)[j]) / delta)\n",
        "    return resultado\n",
        "\n",
        "#Calculo del jacobiano de la funcion F, con la implementacion de la parcial\n",
        "def jacobiangod(F, X, delta):\n",
        "    # Calculamos el jacobiano de F en X\n",
        "    n = len(X)\n",
        "    J = np.zeros((n, n))\n",
        "    for i in range(n):\n",
        "        for j in range(n):\n",
        "            J[i, j] = parcial_vectorial(F, X, j, delta)[i]\n",
        "    return J\n",
        "\n",
        "def solver(A,b):\n",
        "    L,U=factorizacionLU(A)\n",
        "    #Sustitucion adelante\n",
        "    y = sustDelante(L, b)\n",
        "    #sustitucion hacia atras\n",
        "    resul = sustAtras(U, y)\n",
        "    return resul\n",
        "\n",
        "def JimyNewtron(aprox,tol,N):\n",
        "  # contador de iteraciones\n",
        "    n = 0 \n",
        "    while n < N: # maximo numero de iteraciones N\n",
        " \n",
        "        #Se evalua la funcion vectorial en la aprox\n",
        "        FX=F1(aprox)\n",
        "       \n",
        "        #Se obtiene el jacobiano mediante la funcion jacobiangod\n",
        "        #Dentro se calcula la parcial numerica respecto a las variables\n",
        "        Df = jacobiangod(F1,aprox,tol)\n",
        "     \n",
        "        #Solver del sistema lineal de ecuaciones, para evitar el calculo de la inversa\n",
        "        H = solver(Df,-FX)\n",
        "        \n",
        "        #Aproximacion k\n",
        "        aprox1 = aprox\n",
        "        \n",
        "        #Condiciones de paro\n",
        "        if Norma2(FX)<=tol and Norma2(aprox1-aprox) <= tol:\n",
        "            # El valor devuelto es la aproximacion\n",
        "            return aprox\n",
        "        \n",
        "        # FORMA ITERATIVA DEL METODO DE NEWTON PARA SISTEMAS NO LIENALES\n",
        "        #  #Aproximacion k+1\n",
        "        aprox = aprox + H\n",
        "        # se incrementa el contador\n",
        "        n+=1\n"
      ]
    },
    {
      "cell_type": "code",
      "execution_count": null,
      "id": "6a246918",
      "metadata": {
        "deletable": false,
        "editable": false,
        "id": "6a246918",
        "nbgrader": {
          "cell_type": "code",
          "checksum": "3e364ea51086a98ed0e32a60fde40d5a",
          "grade": true,
          "grade_id": "cell-7ca67c3cfb297d4a",
          "locked": true,
          "points": 0,
          "schema_version": 3,
          "solution": false,
          "task": false
        },
        "outputId": "8d6d762c-c665-4609-a0d9-fab47f3b811f"
      },
      "outputs": [
        {
          "name": "stdout",
          "output_type": "stream",
          "text": [
            "Aproximacion de la solucion\n",
            "[0.56714332 0.56714332]\n",
            "\n",
            "Aproximacion evaluada en f1\n",
            "[4.24605987e-08 4.24605987e-08]\n"
          ]
        }
      ],
      "source": [
        "#Aproximacion inicial (X)     \n",
        "ap = np.zeros([2])     \n",
        "sol = JimyNewtron(ap, 0.001, 10000)     \n",
        "print('Aproximacion de la solucion')     \n",
        "print(sol)     \n",
        "print('\\nAproximacion evaluada en f1')     \n",
        "print(F1(sol)) "
      ]
    },
    {
      "cell_type": "markdown",
      "id": "fb3f3a27",
      "metadata": {
        "deletable": false,
        "editable": false,
        "id": "fb3f3a27",
        "nbgrader": {
          "cell_type": "markdown",
          "checksum": "9342ac69d4697593936fa9317118e594",
          "grade": false,
          "grade_id": "cell-cd711cdedf1ef310",
          "locked": true,
          "schema_version": 3,
          "solution": false,
          "task": false
        }
      },
      "source": [
        "Sea cuál sea la subsección hasta la que hayas decidido responder (excepto la subseccion 1.5) la solución debe seguir siendo.\n",
        "\n",
        "`Aproximacion de la solucion [0.56714332 0.56714332]`\n",
        "\n",
        "`Aproximacion evaluada en F1 4.2460598703719654e-08`\n",
        "\n",
        "`Aproximacion evaluada en F2 4.2460598703719654e-08`"
      ]
    },
    {
      "cell_type": "markdown",
      "id": "2f4bd81a",
      "metadata": {
        "deletable": false,
        "editable": false,
        "id": "2f4bd81a",
        "nbgrader": {
          "cell_type": "markdown",
          "checksum": "c9b996ea1e998dea2ccc7a24c4e647aa",
          "grade": false,
          "grade_id": "cell-3e8033ec6581d93e",
          "locked": true,
          "schema_version": 3,
          "solution": false,
          "task": false
        }
      },
      "source": [
        "# (¿? Puntos) Sección Especial\n",
        "\n",
        "Esta sección es solo para amenizar al momento de calificar y probablemente subir unas cuantas décimas. Pero por ningún motivo esta sección hará que apruebes el examen si es que no muestras conocimientos.\n",
        "\n",
        "“Tus antepasados lo llamaban magia, tú lo llamas ciencia. En mi mundo ambos son lo mismo.”\n",
        "\n",
        "\"La magia es sólo la ciencia que todavía no comprendemos.\"\n",
        "\n",
        " –Fráses de Thor, hijo de Odín.\n",
        "\n",
        "<center>\n",
        "<img src=\"https://github.com/jugernaut/ManejoDatos/blob/desarrollo/Imagenes/AlgoritmosBusqueda/traemethanos.gif?raw=1\" width=\"600\">   \n",
        "</center> \n",
        "\n",
        "Thor Love and Thunder:\n",
        "*   ¿Cómo se llama el martillo de Thor (escribe bien su nombre)?\n",
        "*   ¿Cuántos hermanos tiene Thor?\n",
        "*   ¿Con quien hace equipo Thor después de dejar de ser parte de los Vengadores\n",
        "*   ¿Como se llama el antagonista de \"Thor Love and Thunder\" y por que desea matar dioses?\n",
        "*   ¿Cuál es la última bendicion que recibe Thor y cómo se llama?"
      ]
    },
    {
      "cell_type": "markdown",
      "id": "b15aa56d",
      "metadata": {
        "id": "b15aa56d"
      },
      "source": [
        "Thor Love and Thunder:\n",
        "*   ¿Cómo se llama el martillo de Thor (escribe bien su nombre)?\n",
        "mjolnir\n",
        "*   ¿Cuántos hermanos tiene Thor?\n",
        "*   ¿Con quien hace equipo Thor después de dejar de ser parte de los Vengadores\n",
        "Guardianes de la galaxya\n",
        "*   ¿Como se llama el antagonista de \"Thor Love and Thunder\" y por que desea matar dioses?\n",
        "Gorr, y fue porque los dioses lo decepcionaron\n",
        "*   ¿Cuál es la última bendicion que recibe Thor y cómo se llama?\n"
      ]
    }
  ],
  "metadata": {
    "colab": {
      "provenance": [],
      "toc_visible": true
    },
    "kernelspec": {
      "display_name": "Python 3 (ipykernel)",
      "language": "python",
      "name": "python3"
    },
    "language_info": {
      "codemirror_mode": {
        "name": "ipython",
        "version": 3
      },
      "file_extension": ".py",
      "mimetype": "text/x-python",
      "name": "python",
      "nbconvert_exporter": "python",
      "pygments_lexer": "ipython3",
      "version": "3.9.7"
    }
  },
  "nbformat": 4,
  "nbformat_minor": 5
}