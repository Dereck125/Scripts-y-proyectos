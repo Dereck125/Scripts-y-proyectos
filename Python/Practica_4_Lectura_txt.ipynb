{
  "nbformat": 4,
  "nbformat_minor": 0,
  "metadata": {
    "colab": {
      "provenance": []
    },
    "kernelspec": {
      "name": "python3",
      "display_name": "Python 3"
    },
    "language_info": {
      "name": "python"
    }
  },
  "cells": [
    {
      "cell_type": "markdown",
      "source": [
        "## Curso de introducción a la programación con Python\n",
        "\n",
        "<p>\n",
        "<img src=\"https://upload.wikimedia.org/wikipedia/commons/thumb/c/c3/Python-logo-notext.svg/480px-Python-logo-notext.svg.png\" width=\"150px\" align=\"left\"> &nbsp;&nbsp;&nbsp; <strong>Autor: Luis Fernando Apáez Álvarez</strong>\n",
        "\n",
        "&nbsp;&nbsp;&nbsp; -Curso PyM-\n",
        "\n",
        "&nbsp;&nbsp;&nbsp; Práctica 4: Cadenas de texto\n",
        "\n",
        "&nbsp;&nbsp;&nbsp; Fecha: 11 de Agosto del 2022\n",
        "</p>"
      ],
      "metadata": {
        "id": "_Vok3Ei8bEjZ"
      }
    },
    {
      "cell_type": "markdown",
      "source": [
        "---\n",
        "\n",
        "**Descripción:** En esta práctica trabajaremos con lo aprendido sobre las cadenas de texto. Para ello trabajaremos con el texto que viene en el archivo txt: [Archivo](https://cursopypagina.github.io/CursoPy/Primera_Meditacion.txt)\n",
        "\n",
        "(Tiempo estimado: **20 minutos**)"
      ],
      "metadata": {
        "id": "hCeXxdGsbJYQ"
      }
    },
    {
      "cell_type": "code",
      "execution_count": null,
      "metadata": {
        "id": "CQ4IW8cRa-kh"
      },
      "outputs": [],
      "source": [
        "# ------------------------------------------------------------------------------\n",
        "# ------------------------------------------------------------------------------\n",
        "# ------------------------------------------------------------------------------\n",
        "# ------------------------------------------------------------------------------\n",
        "# -------------------- Elimina los asteriscos y coloca tu nombre ---------------\n",
        "\n",
        "nombre_estudiante = \" Dereck \"\n",
        "\n",
        "# ------------------------------------------------------------------------------\n",
        "# ------------------------------------------------------------------------------\n",
        "# ------------------------------------------------------------------------------\n",
        "# ------------------------------------------------------------------------------"
      ]
    },
    {
      "cell_type": "markdown",
      "source": [
        "**Solución:** Lo primero que haremos será descargar dicho archivo, en esta notebook, para poder trabajar con él. El siguiente código realizará dicha descarga:"
      ],
      "metadata": {
        "id": "Yrg0Tp9skAcI"
      }
    },
    {
      "cell_type": "code",
      "source": [
        "import requests\n",
        "url = 'https://cursopypagina.github.io/CursoPy/Primera_Meditacion.txt'\n",
        "myfile = requests.get(url)\n",
        "open('Primera_Meditacion.txt', 'wb').write(myfile.content)"
      ],
      "metadata": {
        "colab": {
          "base_uri": "https://localhost:8080/"
        },
        "id": "trRCaKN3gMuY",
        "outputId": "6c7ac958-4cd6-4560-fae8-d09b57a2d95a"
      },
      "execution_count": null,
      "outputs": [
        {
          "output_type": "execute_result",
          "data": {
            "text/plain": [
              "12859"
            ]
          },
          "metadata": {},
          "execution_count": 2
        }
      ]
    },
    {
      "cell_type": "markdown",
      "source": [
        "Después, una vez que el archivo ``'Primera_Meditacion.txt'`` ha sido descargado, procederemos a leer cada línea de dicho archivo, y el texto de dicha línea se irá concatenado en una variable string que denominaremos ``datos``:"
      ],
      "metadata": {
        "id": "CRMsAjo6kUtr"
      }
    },
    {
      "cell_type": "code",
      "source": [
        "# Cadena de texto vacia\n",
        "datos = \"\"\n",
        "\n",
        "# abrimos el archivo que descargamos\n",
        "# y le damos un alias (archivo)\n",
        "with open('/content/Primera_Meditacion.txt',\"r\") as archivo:\n",
        "    # iteramos sobre cada linea del archivo txt y agregamos dicho\n",
        "    # texto a la cadena vacia, para asi conseguir almacenar\n",
        "    # todo el contenido del archivo en la varible string datos\n",
        "    for linea in archivo:\n",
        "        datos += linea"
      ],
      "metadata": {
        "id": "z07M7dS0gPXR"
      },
      "execution_count": null,
      "outputs": []
    },
    {
      "cell_type": "code",
      "source": [
        "# Imprimimos la variable string datos\n",
        "print(datos)"
      ],
      "metadata": {
        "colab": {
          "base_uri": "https://localhost:8080/"
        },
        "id": "pf9q2C_Dk3V-",
        "outputId": "93a2aee0-c668-4628-b41c-a4f70c2828a9"
      },
      "execution_count": null,
      "outputs": [
        {
          "output_type": "stream",
          "name": "stdout",
          "text": [
            "Textos de Descartes. Meditaciones metafísicas\n",
            "Meditaciones metafísicas - Primera meditación\n",
            "De las cosas que se pueden poner en duda\n",
            "\n",
            "Hace ya algún tiempo que me di cuenta de que, desde mi infancia, había tenido por verdaderas numerosas opiniones falsas, y que lo construido posteriormente sobre principios tan poco firmes no podía dejar de ser altamente dudoso e incierto; de modo que debía emprender seriamente por una vez en mi vida la tarea de deshacerme de todas las opiniones que había tomado hasta entonces por verdaderas, y comenzar completamente de nuevo, desde los cimientos, si quería establecer algo firme y constante en las ciencias. Pero, pareciéndome demasiado grande esta empresa, esperé a haber alcanzado una edad que fuese lo suficientemente madura como para no poder esperar otra después de ella que fuese más propicia para ejecutarla; lo que me ha hecho diferirla tanto que en adelante creería cometer una falta si encima emplease en deliberar el tiempo que me queda para actuar. Ahora, pues, que mi espíritu está libre de toda preocupación, y que me he procurado un reposo tranquilo en una apacible soledad, me aplicaré seriamente y con libertad a destruir de un modo general todas mis antiguas opiniones.\n",
            "\n",
            "Pero, para cumplir tal designio, no será necesario probar que son todas falsas, lo que quizá nunca conseguiría; sino que, del mismo modo que la razón me persuade ya de que debo impedirme dar crédito a las cosas que no son enteramente ciertas e indudables, con el mismo empeño que pondría ante aquellas que nos parecen manifiestamente falsas, el menor motivo para dudar que encontrara en ellas serviría para hacérmelas rechazar todas. Y por eso no es necesario que las examine particularmente una a una, lo que sería un trabajo infinito; sino que, ya que la ruina de los cimientos entraña necesariamente la de todo el edificio, me concentraré primero en los principios sobre los que todas mis antiguas opiniones se habían fundado.\n",
            "\n",
            "\n",
            "Todo lo que hasta el presente he tenido como lo más verdadero y seguro lo he aprendido de los sentidos o por los sentidos: ahora bien, a veces he experimentado que esos sentidos eran engañosos, y es prudente no fiarse nunca por completo de quienes nos han engañado una vez.\n",
            "\n",
            "Pero, aunque los sentidos nos engañen a veces, en lo referente a cosas poco perceptibles y muy alejadas, hay quizá muchas otras de las que no se puede razonablemente dudar, aunque las conozcamos a través de ellos: por ejemplo, de que estoy aquí, sentado cerca del fuego, vestido con una bata, sosteniendo este papel entre mis manos, y otras cosas de esta naturaleza. ¿Y cómo podría negar que estas manos y este cuerpo sean míos, si no es quizás igualándome a esos insensatos cuyo cerebro está de tal modo turbado y ofuscado por los negros vapores de la bilis, que aseguran constantemente que son reyes, cuando son muy pobres; que están vestidos de oro y de púrpura, cuando están completamente desnudos; o que se imaginan ser un cántaro, o tener un cuerpo de vidrio?. ¿Pero qué? Ellos están locos, y no sería yo menos extravagante si me guiase por sus ejemplos.\n",
            "\n",
            "No obstante, tengo aquí que considerar que soy hombre y, en consecuencia, que tengo costumbre de dormir y de representarme en mis sueños las mismas cosas, o algunas menos verosímiles, que esos insensatos cuando están despiertos. ¿Cuántas veces he soñado, durante la noche, que estaba en este lugar, que estaba vestido, que estaba cerca del fuego, aunque estuviese completamente desnudo en mi cama? Me parece ahora que no miro este papel con ojos somnolientos; que esta cabeza que muevo no está adormilada; que extiendo esta mano intencionadamente y con un propósito deliberado, y que la siento: lo que ocurre en un sueño, sin embargo, no parece ser tan claro ni tan distinto como todo esto. Pero, pensándolo cuidadosamente, recuerdo haber sido a menudo engañado, mientras dormía, por semejantes ilusiones. Y deteniéndome en este pensamiento, veo tan manifiestamente que no hay indicios concluyentes, ni señales suficientemente seguras por las que se pueda distinguir claramente la vigilia del sueño, que me quedo totalmente asombrado; y mi asombro es tal, que es casi capaz de persuadirme de que duermo.\n",
            "\n",
            "\n",
            "Supongamos ahora, pues, que estamos dormidos, y que todas esas particularidades, a saber: que abrimos los ojos, que movemos la cabeza, que extendemos las manos, y cosas semejantes, no son más que falsas ilusiones; y pensemos que quizás nuestras manos, y todo nuestro cuerpo, no sean tales como los vemos. No obstante, hay que confesar al menos que las cosas que se nos representan en el sueño son como cuadros y pinturas, que no pueden estar hechas más que a semejanza de algo real y verdadero; y que así, al menos, esas cosas generales, a saber: los ojos, la cabeza, las manos, y todo el resto del cuerpo, no son cosas imaginarias, sino verdaderas y existentes. Así, ciertamente, los pintores, incluso cuando se emplean con el mayor artificio en representar sirenas y sátiros mediante formas extrañas y extraordinarias, no les pueden atribuir, sin embargo, formas y naturalezas completamente nuevas; simplemente hacen una cierta mezcla y composición con los miembros de diversos animales; o bien, si acaso su imaginación fuera lo suficientemente extravagante como para inventar algo nuevo, tal que jamás hubiéramos visto nada semejante, y que así su obra nos representara algo puramente fingido y absolutamente falso, al menos es cierto que los colores que lo componen serían verdaderos. Y por la misma razón, aunque esas cosas generales, a saber, los ojos, la cabeza, las manos, y otras semejantes, pudieran ser imaginarias, es preciso sin embargo confesar que hay cosas todavía más simples y más universales que son verdaderas y existentes; de cuya mezcla, al igual que de la de algunos colores verdaderos, están formadas todas las imágenes de las cosas que residen en nuestro pensamiento, sean verdaderas y reales, o bien fingidas y fantásticas.\n",
            "\n",
            "De ese tipo de cosas es la naturaleza corporal en general, y su extensión; como lo es la figura de las cosas extensas, su cantidad o magnitud, y su número; y el lugar en el que están, el tiempo que mide su duración, y otras semejantes.\n",
            "\n",
            "\n",
            "Por ello, no será, quizás, errónea nuestra conclusión si decimos que la física, la astronomía, la medicina y todas las demás ciencias que dependen de la consideración de cosas compuestas son altamente dudosas e inciertas; mientras que la aritmética, la geometría, y las demás ciencias de esta naturaleza, que sólo tratan de cosas muy simples y generales, sin preocuparse mucho de si se dan o no en la naturaleza, contienen algo de cierto e indudable. Pues, tanto si estoy despierto como si duermo, 2 y 3 sumarán siempre cinco, y el cuadrado nunca tendrá más de cuatro lados; y no parece posible que verdades tan manifiestas puedan ser sospechosas de ninguna falsedad o incertidumbre.\n",
            "\n",
            "No obstante, hace mucho tiempo que tengo en mi mente cierta opinión según la cual hay un Dios que todo lo puede, y por quien he sido creado y producido tal como soy. Pero ¿quién podría asegurarme que ese Dios no ha hecho que no exista ninguna tierra, ningún cielo, ningún cuerpo extenso, ninguna figura, ninguna magnitud, ningún lugar, y que sin embargo yo tenga la percepción de todas esas cosas, y que todo eso no me parezca que exista de otro modo que yo lo veo? E incluso, como juzgo que a veces los demás se equivocan, aun en las cosas que creen saber con mayor certeza, podría ocurrir que hubiera querido que yo me equivoque cada vez que sumo 2 y 3, o cuento los lados de un cuadrado, o considero cualquier cosa aún más fácil, si es que podemos imaginar algo más fácil que eso. Pero quizás Dios no ha querido que fuese engañado de tal modo, ya que es llamado soberano bien. Sin embargo, si eso repugnara a su bondad, el haberme hecho tal que me equivocase siempre, parecería también serle contrario el permitir que me equivocara a veces, de lo que sin embargo no puedo dudar que lo permite.\n",
            "\n",
            "Habrá, en esto, personas que preferirían negar la existencia de un Dios tan poderoso a creer que todas las demás cosas son inciertas. No les ofrezcamos resistencia por el momento y supongamos, en su favor, que todo lo que se ha dicho aquí de tal Dios sea una fábula. No obstante, sea cual sea la manera por la que supongan que he llegado al estado y al ser que poseo, sea que lo atribuyan al destino o a la fatalidad, que lo refieran al azar, o bien que prefieran atribuirlo a una continua sucesión y unión de las cosas, es cierto que, puesto que errar y equivocarse es una especie de imperfección, tanto menos poderoso será el autor al que atribuyan mi origen, cuanto más probable será que yo sea tan imperfecto que me equivoque siempre. Ciertamente, nada tengo que objetar a estas razones, pero me veo obligado a confesar que, de todas las opiniones que antiguamente había recibido en mi creencia como verdaderas, no hay una siquiera de la que no pueda ahora dudar, no por ninguna falta de consideración o ligereza, sino por razones muy poderosas y largamente consideradas. De modo que es necesario que detenga y suspenda en adelante mi juicio sobre estos pensamientos, y que no les dé ya más crédito que el que le daría a las cosas que me parecen evidentemente falsas si deseo encontrar algo de constante y seguro en las ciencias.\n",
            "\n",
            "\n",
            "Pero no basta haber hecho estas observaciones; he de cuidarme además de recordarlas, ya que aquellas antiguas y comunes opiniones vuelven todavía con frecuencia al pensamiento, dándoles el largo y familiar uso que habían tenido en mí derecho a ocupar mi mente, contra mi voluntad, haciéndose casi dueñas de mi creencia. Y nunca perderé la costumbre de asentir a ellas, y de confiar en ellas, en tanto las considere como ellas son en efecto, a saber, en cierto modo dudosas, como acabo de demostrar, y sin embargo muy probables, de modo que se tiene más razón al creerlas que al negarlas. Por ello, pienso que las utilizaré más prudentemente sí, tomando una posición contraria, empleo todos mis cuidados en engañarme a mí mismo, fingiendo que todos esos pensamientos son falsos e imaginarios; hasta que, habiendo nivelado mis prejuicios hasta el punto de que no puedan hacer inclinar mi opinión más de un lado que del otro, mi juicio ya no esté dominado por malos usos y desviado del recto camino que le puede conducir al conocimiento de la verdad. Pues estoy seguro, no obstante, de que no puede haber peligro ni error en este camino, y que no supondría hoy conceder demasiado a mi desconfianza, ya que no es cuestión de actuar sino solamente de meditar y conocer.\n",
            "\n",
            "Supondré que hay, pues, no un verdadero Dios, que es la soberana fuente de verdad, sino un cierto genio malvado, no menos astuto y engañador que poderoso, que ha empleado toda su industria en engañarme. Pensaré que el cielo, el aire, la tierra, los colores, las figuras, los sonidos y todas las cosas exteriores que vemos no son más que ilusiones y engaños, de los que se sirve para sorprender mi credulidad. Me consideraré a mí mismo como carente de manos, de ojos, de carne, de sangre, como carente de sentidos, pero creyendo falsamente tener todas estas cosas. Permaneceré obstinadamente ligado a este pensamiento; y si, de este modo, no está en mi poder alcanzar el conocimiento de verdad alguna, al menos estará en mi poder suspender el juicio. Por ello, evitaré cuidadosamente admitir en mi creencia ninguna falsedad, y prepararé tan bien a mi mente para todas las astucias de ese gran engañador que, por poderoso y astuto que sea, jamás podrá imponerme nada. Pero este propósito es duro y trabajoso, y una cierta pereza me arrastra insensiblemente hacia el curso de mi vida cotidiana. Y al igual que un esclavo que gozara en el sueño de una libertad imaginaria, cuando comienza a sospechar que su libertad no es más que un sueño, teme ser despertado, y conspira con esas ilusiones agradables para permanecer más tiempo engañado por ellas, así yo regreso insensiblemente, por mí mismo, a mis antiguas opiniones, y temo despertar de este sopor por miedo a que las laboriosas vigilias que sucedan a la tranquilidad de este reposo, en lugar de aportarme algo de luz en el conocimiento de la verdad, no sean suficientes para aclarar las tinieblas de las dificultades que acaban de suscitarse.\n",
            "\n",
            "Según la versión de josé maría fouce, para \"La Filosofía en el Bachillerato\". Se sigue la traducción francesa de 1647, del duque de Luynes, que fue revisada y corregida por Descartes, quien introdujo variaciones sobre su propia versión latina de París de 1641, \"para aclarar su propio pensamiento\", según el testimonio de Baillet, biógrafo de Descartes.\n"
          ]
        }
      ]
    },
    {
      "cell_type": "markdown",
      "source": [
        "---\n",
        "\n",
        "(1) Lo que haremos primero será contar cuántas palabras hay en dicho texto. Para conseguir lo anterior notemos primero que"
      ],
      "metadata": {
        "id": "WMCWR5MDmHTY"
      }
    },
    {
      "cell_type": "code",
      "source": [
        "# Cadena de 4 palabras\n",
        "msj = \"Hola Mundo, sean bienvenidos\"\n",
        "\n",
        "# Imprimimos el numero total de espacios en \n",
        "# blanco en nuestra cadena\n",
        "print(msj.count(\" \"))"
      ],
      "metadata": {
        "colab": {
          "base_uri": "https://localhost:8080/"
        },
        "id": "BjcHUIA9mbpb",
        "outputId": "291a66ce-4ba3-4ab1-da51-34cfd340619e"
      },
      "execution_count": null,
      "outputs": [
        {
          "output_type": "stream",
          "name": "stdout",
          "text": [
            "3\n"
          ]
        }
      ]
    },
    {
      "cell_type": "markdown",
      "source": [
        "Esto es, el número total de palabras es igual al número total de espacios en blanco más 1. Así:"
      ],
      "metadata": {
        "id": "MkBQXnqtmyU-"
      }
    },
    {
      "cell_type": "code",
      "source": [
        "# numero total de espacios en blanco\n",
        "espacios_blanco = msj.count(\" \")\n",
        "\n",
        "print(f\"Número total de palabras en la cadena msj: {espacios_blanco + 1}\")"
      ],
      "metadata": {
        "colab": {
          "base_uri": "https://localhost:8080/"
        },
        "id": "dXBNNOmAm4ov",
        "outputId": "ca065b28-b920-4cd8-e156-8961a0de03eb"
      },
      "execution_count": null,
      "outputs": [
        {
          "output_type": "stream",
          "name": "stdout",
          "text": [
            "Número total de palabras en la cadena msj: 4\n"
          ]
        }
      ]
    },
    {
      "cell_type": "markdown",
      "source": [
        "Con base en lo anterior, escribe un código que cuente el número total de palabras en el texto almacenado en la variable ``datos``:"
      ],
      "metadata": {
        "id": "A2ucqWK9nMyQ"
      }
    },
    {
      "cell_type": "code",
      "source": [
        "# Aqui escribe tu codigo de acuerdo a lo que\n",
        "# se dijo antes\n",
        "espacios_blanco_datos = datos.count(\" \")\n",
        "\n",
        "print(f\"Número total de palabras en los datos: {espacios_blanco_datos + 1}\")"
      ],
      "metadata": {
        "id": "CmdB-z0Mnhx2",
        "colab": {
          "base_uri": "https://localhost:8080/"
        },
        "outputId": "c07fc721-491e-4dca-c9b5-9432f56594cf"
      },
      "execution_count": null,
      "outputs": [
        {
          "output_type": "stream",
          "name": "stdout",
          "text": [
            "Número total de palabras en los datos: 2135\n"
          ]
        }
      ]
    },
    {
      "cell_type": "markdown",
      "source": [
        "(2) De nuevo, contaremos el número total de palabras en el texto almacenado en la variable ``datos``, pero ahora utilizaremos el método ``split()`` y la función ``len()`` para calcularlo. Para ello"
      ],
      "metadata": {
        "id": "KIBiy0gLrHnk"
      }
    },
    {
      "cell_type": "code",
      "source": [
        "# escribe el codigo correspondiente:\n",
        "# Utiliza la funcion split() y almacena la lista\n",
        "# resultante en una variable\n",
        "# .\n",
        "# .\n",
        "# .\n",
        "palabras_datos = datos.split(\" \")\n",
        "\n",
        "\n",
        "# Imprime el numero total de elementos en la\n",
        "# lista que obtuves anteriormente, utilizando\n",
        "# para ello la funcion print()\n",
        "# .\n",
        "# .\n",
        "# .\n",
        "print(len(palabras_datos))"
      ],
      "metadata": {
        "id": "QTlRXSMYsrYr",
        "colab": {
          "base_uri": "https://localhost:8080/"
        },
        "outputId": "138af6a9-0103-4cd0-e401-09f76022ffa1"
      },
      "execution_count": null,
      "outputs": [
        {
          "output_type": "stream",
          "name": "stdout",
          "text": [
            "2135\n"
          ]
        }
      ]
    },
    {
      "cell_type": "markdown",
      "source": [
        "(3) ¿Los números obtenidos por los distintos métodos fue el mismo?"
      ],
      "metadata": {
        "id": "aMSxskyntMlq"
      }
    },
    {
      "cell_type": "code",
      "source": [
        "# Si los numeros obtenidos por los distintos metodos\n",
        "# fueron iguales, imprime el booleano True.\n",
        "# Si los numeros fueron distintos, imtpime False \n",
        "\n",
        "print(True)"
      ],
      "metadata": {
        "id": "ak5eolHVtUcl",
        "colab": {
          "base_uri": "https://localhost:8080/"
        },
        "outputId": "e062754a-4395-4fd1-93f2-abe81d107f7e"
      },
      "execution_count": null,
      "outputs": [
        {
          "output_type": "stream",
          "name": "stdout",
          "text": [
            "True\n"
          ]
        }
      ]
    },
    {
      "cell_type": "markdown",
      "source": [
        "(4) Podemos contar cuántas veces apareció cierta palabra dentro de nuestro texto. Por ejemplo"
      ],
      "metadata": {
        "id": "sZt5nz_LuXk4"
      }
    },
    {
      "cell_type": "code",
      "source": [
        "# cadena de texto\n",
        "# La cadena \"texto\" aparecera 3 veces\n",
        "cad = \"Repitamos texto, en este texto, para ver cuántas veces aparece \\\n",
        "la cadena texto\"\n",
        "\n",
        "# utilizamos de nuevo el metodo count()\n",
        "print(cad.count(\"texto\"))"
      ],
      "metadata": {
        "colab": {
          "base_uri": "https://localhost:8080/"
        },
        "id": "nLKMTPb8ueOs",
        "outputId": "7dfa7480-7de0-498e-a9ba-a69ae5578d69"
      },
      "execution_count": null,
      "outputs": [
        {
          "output_type": "stream",
          "name": "stdout",
          "text": [
            "3\n"
          ]
        }
      ]
    },
    {
      "cell_type": "markdown",
      "source": [
        "¿Cuántas veces aparecé la palabra _ciencias_ dentro del texto en la variable ``datos``?"
      ],
      "metadata": {
        "id": "RFwxjZoKvLf3"
      }
    },
    {
      "cell_type": "code",
      "source": [
        "# escribe el codigo necesario para responder la pregunta anterior\n",
        "print(datos.count(\"ciencias\"))"
      ],
      "metadata": {
        "id": "1k-nQX-gvXKv",
        "colab": {
          "base_uri": "https://localhost:8080/"
        },
        "outputId": "1be2d483-4bfd-429f-ed9e-4738a760dac4"
      },
      "execution_count": null,
      "outputs": [
        {
          "output_type": "stream",
          "name": "stdout",
          "text": [
            "4\n"
          ]
        }
      ]
    },
    {
      "cell_type": "markdown",
      "source": [
        "¿Cuántas veces aparecé la palabra _Dios_ dentro del texto \n",
        "en la variable ``datos``?"
      ],
      "metadata": {
        "id": "KuIdiFiTvycc"
      }
    },
    {
      "cell_type": "code",
      "source": [
        "# escribe el codigo necesario para responder la pregunta anterior\n",
        "print(datos.count(\"Dios\"))\n"
      ],
      "metadata": {
        "id": "73XQMTmDwH1o",
        "colab": {
          "base_uri": "https://localhost:8080/"
        },
        "outputId": "f9f1778e-94a1-45b1-d65e-0afd7ce05544"
      },
      "execution_count": null,
      "outputs": [
        {
          "output_type": "stream",
          "name": "stdout",
          "text": [
            "6\n"
          ]
        }
      ]
    },
    {
      "cell_type": "markdown",
      "source": [
        "(5) Imprime la subcadena que va del índice 3097 al índice 3199, y almacena dicha cadena en la variable ``subcadena``:"
      ],
      "metadata": {
        "id": "iA2gKJJiwY66"
      }
    },
    {
      "cell_type": "code",
      "source": [
        "# Completa\n",
        "subcadena = datos[3097:3200]\n",
        "\n",
        "# Imprime \n",
        "print(subcadena)"
      ],
      "metadata": {
        "id": "gyxXtxPLxWBw",
        "colab": {
          "base_uri": "https://localhost:8080/"
        },
        "outputId": "3fe3edac-eefc-42a9-b92a-556149f0a3d6"
      },
      "execution_count": null,
      "outputs": [
        {
          "output_type": "stream",
          "name": "stdout",
          "text": [
            "No obstante, tengo aquí que considerar que soy hombre y, en consecuencia, que tengo costumbre de dormir\n"
          ]
        }
      ]
    },
    {
      "cell_type": "markdown",
      "source": [
        "Si lo hiciste de la manera correcta tendrá sentido la siguiente instrucción:\n",
        "\n",
        "(6) Cambia la palabra ``\"hombre``\" a la palabra ``\"mujer``\" referente a la variable ``datos``, mediante el método ``replace()``. Almacena el texto resultante del cambio en la variable ``datos2``"
      ],
      "metadata": {
        "id": "v8vi5y43xli8"
      }
    },
    {
      "cell_type": "code",
      "source": [
        "# completa\n",
        "datos2 = datos.replace(\"hombre\",\"mujer\")"
      ],
      "metadata": {
        "id": "NfzYojdjyKAm"
      },
      "execution_count": null,
      "outputs": []
    },
    {
      "cell_type": "markdown",
      "source": [
        "(7) De manera similar al código obtenido de la instrucción (5). Imprime la subcadena del índice 3097 al índice 3199 referente ahora a la variable ``datos2``."
      ],
      "metadata": {
        "id": "WiK55q70yeFf"
      }
    },
    {
      "cell_type": "code",
      "source": [
        "# Completa\n",
        "subcadena2 = datos2[3097:3200]\n",
        "\n",
        "# Imprime \n",
        "print(subcadena2)"
      ],
      "metadata": {
        "id": "lDN2L7WCzN-u",
        "colab": {
          "base_uri": "https://localhost:8080/"
        },
        "outputId": "df2e6746-c433-499e-f269-ff6603b9f63b"
      },
      "execution_count": null,
      "outputs": [
        {
          "output_type": "stream",
          "name": "stdout",
          "text": [
            "No obstante, tengo aquí que considerar que soy mujer y, en consecuencia, que tengo costumbre de dormir \n"
          ]
        }
      ]
    },
    {
      "cell_type": "markdown",
      "source": [
        "¿Qué es lo que observas?"
      ],
      "metadata": {
        "id": "3lHJAhtGzSZy"
      }
    },
    {
      "cell_type": "code",
      "source": [
        "# Responde la pregunta anterior aqui:La palabra hombre fue remplazada por la palabra mujer."
      ],
      "metadata": {
        "id": "5mBE8ya7zYgr"
      },
      "execution_count": null,
      "outputs": []
    }
  ]
}