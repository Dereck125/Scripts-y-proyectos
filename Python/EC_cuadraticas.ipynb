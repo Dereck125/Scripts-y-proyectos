{
  "nbformat": 4,
  "nbformat_minor": 0,
  "metadata": {
    "colab": {
      "provenance": []
    },
    "kernelspec": {
      "name": "python3",
      "display_name": "Python 3"
    },
    "language_info": {
      "name": "python"
    }
  },
  "cells": [
    {
      "cell_type": "code",
      "source": [
        "# paquete que nos ayudara a mostrar expresiones\n",
        "# matematicas en las salidas de las celdas\n",
        "from IPython.display import display, Math"
      ],
      "metadata": {
        "id": "D3CTtml0upQq"
      },
      "execution_count": null,
      "outputs": []
    },
    {
      "cell_type": "code",
      "source": [
        "\n",
        "# Mensaje inicial\n",
        "print(\"Bienvenido a la calculadora de soluciones \\\n",
        "para ecuaciones de segundo grado.\")\n",
        "\n",
        "print(\"-\" * 75)\n",
        "\n",
        "print(\"Por favor ingrese los coeficientes \\\n",
        "correspondientes de su ecuación: \")\n",
        "\n",
        "display(Math(r'ax^{2}+bx+c=0'))\n",
        "\n",
        "# le pedimos al usuario que ingrese los valores\n",
        "print(\"Ingresa el valor de a: \")\n",
        "a = float(input())\n",
        "\n",
        "print(\"Ingresa el valor de b: \")\n",
        "b = float(input())\n",
        "\n",
        "print(\"Ingresa el valor de c: \")\n",
        "c = float(input())"
      ],
      "metadata": {
        "colab": {
          "base_uri": "https://localhost:8080/",
          "height": 195
        },
        "id": "bHiwmTtcB37A",
        "outputId": "4337566d-4ed2-4427-f7f5-cf403e4c7a3f"
      },
      "execution_count": null,
      "outputs": [
        {
          "output_type": "stream",
          "name": "stdout",
          "text": [
            "Bienvenido a la calculadora de soluciones para ecuaciones de segundo grado.\n",
            "---------------------------------------------------------------------------\n",
            "Por favor ingrese los coeficientes correspondientes de su ecuación: \n"
          ]
        },
        {
          "output_type": "display_data",
          "data": {
            "text/plain": [
              "<IPython.core.display.Math object>"
            ],
            "text/latex": "$$ax^{2}+bx+c=0$$"
          },
          "metadata": {}
        },
        {
          "name": "stdout",
          "output_type": "stream",
          "text": [
            "Ingresa el valor de a: \n",
            "1\n",
            "Ingresa el valor de b: \n",
            "10\n",
            "Ingresa el valor de c: \n",
            "20\n"
          ]
        }
      ]
    },
    {
      "cell_type": "code",
      "source": [
        "determinante = (b**2)-4*a*c\n",
        "\n",
        "# creamos una variable para almacenar el valor\n",
        "# de la x para el caso en que\n",
        "# la ecuacion solo tiene una solucion,\n",
        "# la inicializamos en 0 \n",
        "x = 0\n",
        "\n",
        "# Creamos dos variable para el caso en que\n",
        "# la ecuacion tiene dos soluciones, las\n",
        "# inicializamos en coro\n",
        "x_pos = 0\n",
        "x_neg = 0\n",
        "\n",
        "\n",
        "# -------------------------------------------------\n",
        "# Emplearemos un condicional con elif\n",
        "\n",
        "# caso en el que la ecuacion solo tiene una solucion\n",
        "if determinante == 0:\n",
        "    x = (-b + (determinante ) ** 0.5 ) / (2 * a)\n",
        "    print(f\"Tu ecuación sólo tiene una solución \\\n",
        "la cual es: x={x}\")\n",
        "# caso en que la ecuacion tiene dos soluciones\n",
        "elif determinante > 0:\n",
        "    x_pos = ( -b + (determinante) ** 0.5 ) / (2 * a)\n",
        "    x_neg = (-b - (determinante) ** 0.5 ) / (2 * a)\n",
        "    print(f\"Tu ecuación tiene dos soluciones \\\n",
        "las cuales son: x1={x_pos} y x2={x_neg} \")\n",
        "# cualquier otro caso (caso en que el determinante\n",
        "# es menor a cero)\n",
        "else:\n",
        "    print(f\"Tu ecuación no tiene soluciones reales\")"
      ],
      "metadata": {
        "id": "Wa7ap-PNNa-6",
        "colab": {
          "base_uri": "https://localhost:8080/"
        },
        "outputId": "cc4440a3-eb11-41e7-e0fa-33f4289275b3"
      },
      "execution_count": null,
      "outputs": [
        {
          "output_type": "stream",
          "name": "stdout",
          "text": [
            "Tu ecuación tiene dos soluciones las cuales son: x1=-2.76393202250021 y x2=-7.23606797749979 \n"
          ]
        }
      ]
    }
  ]
}