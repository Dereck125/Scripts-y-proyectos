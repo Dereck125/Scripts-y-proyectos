{
  "cells": [
    {
      "cell_type": "code",
      "execution_count": null,
      "metadata": {
        "id": "M8IAjnzu-5z5"
      },
      "outputs": [],
      "source": [
        "class Nodo:\n",
        "    def __init__(self, dato):\n",
        "        # \"dato\" puede ser de cualquier tipo, incluso un objeto si se sobrescriben los operadores de comparación\n",
        "        self.dato = dato\n",
        "        self.izquierda = None\n",
        "        self.derecha = None"
      ]
    },
    {
      "cell_type": "code",
      "execution_count": null,
      "metadata": {
        "id": "Z3qQxIbr89Hu"
      },
      "outputs": [],
      "source": [
        "class Arbol:\n",
        "    # Funciones privadas\n",
        "    def __init__(self, dato):\n",
        "        self.raiz = Nodo(dato)\n",
        "\n",
        "    def insertar(self, nodo, dato):\n",
        "        if dato < nodo.dato:\n",
        "            if nodo.izquierda is None:\n",
        "                nodo.izquierda = Nodo(dato)\n",
        "            else:\n",
        "                self.insertar(nodo.izquierda, dato)\n",
        "        else:\n",
        "            if nodo.derecha is None:\n",
        "                nodo.derecha = Nodo(dato)\n",
        "            else:\n",
        "                self.insertar(nodo.derecha, dato)\n",
        "          \n",
        "    def delete(self,nodo,r):\n",
        "        self.raiz = None\n",
        "        nodo.izquierda = None\n",
        "        nodo.derecha = None\n",
        "        if r == \"s\" or r == \"S\":\n",
        "          r_new = input(\"Coloca el valor nuevo de la raiz: \")\n",
        "          self.raiz = Nodo(r_new)\n",
        "          print(\"Se eliminaron todos los nodos y se coloco una nueva raiz\")\n",
        "          \n",
        "        else:\n",
        "          print(\"No se creara una nueva raiz y se borraron todos los nodos\")\n",
        "\n",
        "\n",
        "    def imprimir(self, nodo):\n",
        "        if nodo is not None:\n",
        "            self.imprimir(nodo.izquierda)\n",
        "            print(nodo.dato, end=\"  \")\n",
        "            self.imprimir(nodo.derecha)\n",
        "      \n",
        "    def busqueda(self, nodo, bus):\n",
        "          if nodo is None:\n",
        "              return None\n",
        "          if nodo.dato == bus:\n",
        "              return nodo\n",
        "          if bus < nodo.dato:\n",
        "              return self.busqueda(nodo.izquierda, bus)\n",
        "          else:\n",
        "              return self.busqueda(nodo.derecha, bus)\n",
        "              \n",
        "    def agregar(self, dato):\n",
        "        self.insertar(self.raiz, dato)\n",
        "        \n",
        "    def imprimir_arbol(self):\n",
        "            print(\"árbol: \")\n",
        "            self.imprimir(self.raiz)\n",
        "            print(\"\")\n",
        "        \n",
        "    def buscar(self, busqueda):\n",
        "          return self.busqueda(self.raiz, busqueda)\n",
        "    \n",
        "    def reiniciar(self,r):\n",
        "      self.delete(self.raiz, r)\n",
        "\n",
        "        \n",
        "        "
      ]
    },
    {
      "attachments": {},
      "cell_type": "markdown",
      "metadata": {
        "id": "wmeurVuIanwo"
      },
      "source": [
        "Pathological Tree: El árbol binario tiene un solo hijo, es decir, nodo izquierdo o nodo derecho."
      ]
    },
    {
      "cell_type": "code",
      "execution_count": null,
      "metadata": {
        "id": "dhMI5J10SPSj"
      },
      "outputs": [],
      "source": [
        "arbol = Arbol(340)"
      ]
    },
    {
      "cell_type": "code",
      "execution_count": null,
      "metadata": {
        "colab": {
          "base_uri": "https://localhost:8080/"
        },
        "id": "Aj72qrk0SXNc",
        "outputId": "43dae78b-6a4d-4c8c-c30f-705aa0b428db"
      },
      "outputs": [
        {
          "name": "stdout",
          "output_type": "stream",
          "text": [
            "El arbol patologico tiene un nodo raiz y un solo nodo hijo\n",
            "árbol: \n",
            "43  340  \n"
          ]
        }
      ],
      "source": [
        "arbol.agregar(43)\n",
        "print(\"El arbol patologico tiene un nodo raiz y un solo nodo hijo\")\n",
        "arbol.imprimir_arbol()"
      ]
    },
    {
      "attachments": {},
      "cell_type": "markdown",
      "metadata": {
        "id": "9dUxgezg5Sj_"
      },
      "source": [
        "Deberá tener una forma para borrar el contenido de todos sus nodos (o valores de default) y volver a crear un nuevo árbol binario desde cero\n"
      ]
    },
    {
      "cell_type": "code",
      "execution_count": null,
      "metadata": {
        "colab": {
          "base_uri": "https://localhost:8080/"
        },
        "id": "mG6uJVRoOJMA",
        "outputId": "d92c8dac-4c09-4da8-f939-6c4994551a17"
      },
      "outputs": [
        {
          "name": "stdout",
          "output_type": "stream",
          "text": [
            "Coloca el valor nuevo de la raiz: 32\n",
            "Se eliminaron todos los nodos y se coloco una nueva raiz\n"
          ]
        }
      ],
      "source": [
        "#Metodo para eliminar el contenido de todos los nodos\n",
        "arbol.reiniciar(\"s\")\n"
      ]
    },
    {
      "attachments": {},
      "cell_type": "markdown",
      "metadata": {
        "id": "DfW6beoC5efh"
      },
      "source": [
        "Deberá ser capaz de aceptar la agregación de nuevos nodos bajo las reglas de un árbol binario pero mediante la interacción con el usuario\n"
      ]
    },
    {
      "cell_type": "code",
      "execution_count": null,
      "metadata": {
        "colab": {
          "base_uri": "https://localhost:8080/"
        },
        "id": "BDgisQTkhjy-",
        "outputId": "7a49f321-367c-4265-d7e4-901f77840ddf"
      },
      "outputs": [
        {
          "name": "stdout",
          "output_type": "stream",
          "text": [
            "¿Deseas agregar mas nodos? S/N s\n",
            "¿Cuantos noodos deseas agregar al arbol?3\n",
            "Coloca el valor del nodo 3\n",
            "Coloca el valor del nodo 5\n",
            "Coloca el valor del nodo 24\n"
          ]
        }
      ],
      "source": [
        "x= input(\"¿Deseas agregar mas nodos? S/N \")\n",
        "if x == \"S\" or x == \"s\" and type(arbol.raiz.dato) == int :\n",
        "  y= int(input(\"¿Cuantos noodos deseas agregar al arbol?\"))\n",
        "  for i in range (y):\n",
        "    arbol.agregar(int(input(\"Coloca el valor del nodo \")))\n",
        "if x == \"S\" or x == \"s\" and type(arbol.raiz.dato) == str :\n",
        "  y= int(input(\"¿Cuantos noodos deseas agregar al arbol?\"))\n",
        "  for i in range (y):\n",
        "    arbol.agregar(input(\"Coloca el valor del nodo \"))\n",
        "\n",
        "else:\n",
        "  print(\"No se agregaran mas nodos\")"
      ]
    },
    {
      "attachments": {},
      "cell_type": "markdown",
      "metadata": {
        "id": "qVh7lTRE5mGn"
      },
      "source": [
        "Deberá ser capaz de imprimir sus valores de manera ordenada"
      ]
    },
    {
      "attachments": {},
      "cell_type": "markdown",
      "metadata": {
        "id": "cZxyk9s37g08"
      },
      "source": [
        "Deberá ser capaz de imprimir sus valores en forma gráfica para indicar la jerarquía y la forma visual de un árbol (análogo a las imágenes de ejemplo, pero en consola)"
      ]
    },
    {
      "cell_type": "code",
      "execution_count": null,
      "metadata": {
        "colab": {
          "base_uri": "https://localhost:8080/"
        },
        "id": "JJkTIJo-TnL9",
        "outputId": "48f45a0e-4b45-402b-eeed-6cc033633566"
      },
      "outputs": [
        {
          "name": "stdout",
          "output_type": "stream",
          "text": [
            "Arbol con los nuevo nodos colocados \n",
            "árbol: \n",
            "24  3  32  5  \n"
          ]
        }
      ],
      "source": [
        "print(\"Arbol con los nuevo nodos colocados \")\n",
        "arbol.imprimir_arbol()"
      ]
    },
    {
      "attachments": {},
      "cell_type": "markdown",
      "metadata": {
        "id": "woY_mnMm5uuc"
      },
      "source": [
        "Deberá ser capaz de determinar si un valor proporcionado por el usuario se encuentra o no dentro del árbol"
      ]
    },
    {
      "cell_type": "code",
      "execution_count": null,
      "metadata": {
        "colab": {
          "base_uri": "https://localhost:8080/"
        },
        "id": "0wEN_cmrigDj",
        "outputId": "34ccaa3c-af0a-43f8-dfac-dc816b977d5a"
      },
      "outputs": [
        {
          "name": "stdout",
          "output_type": "stream",
          "text": [
            "Coloque el valor que busque 33\n",
            "El valor 33 no existe en el arbol \n"
          ]
        }
      ],
      "source": [
        "valor_buscado = input(\"Coloque el valor que busque \")\n",
        "nodo_= arbol.buscar(valor_buscado)\n",
        "\n",
        "if nodo_ is None:\n",
        "  print(f\"El valor {valor_buscado} no existe en el arbol \")\n",
        "else:\n",
        "  print(f\"El valor {valor_buscado} si existe en el arbol \")"
      ]
    }
  ],
  "metadata": {
    "colab": {
      "provenance": []
    },
    "kernelspec": {
      "display_name": "Python 3",
      "name": "python3"
    },
    "language_info": {
      "name": "python"
    }
  },
  "nbformat": 4,
  "nbformat_minor": 0
}
