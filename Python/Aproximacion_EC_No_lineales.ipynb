{
  "cells": [
    {
      "cell_type": "code",
      "execution_count": null,
      "metadata": {
        "id": "S_ofNgepx_OE"
      },
      "outputs": [],
      "source": [
        "import numpy as np\n",
        "import matplotlib.pyplot as plt"
      ]
    },
    {
      "cell_type": "code",
      "execution_count": null,
      "metadata": {
        "id": "0DqjQYxYywjf"
      },
      "outputs": [],
      "source": [
        "tol = 0.000001\n",
        "N = 1000"
      ]
    },
    {
      "attachments": {},
      "cell_type": "markdown",
      "metadata": {
        "id": "8T2a0x2DyOg3"
      },
      "source": [
        "#Biseccion"
      ]
    },
    {
      "cell_type": "code",
      "execution_count": null,
      "metadata": {
        "id": "bLKZS9YmyL3Q"
      },
      "outputs": [],
      "source": [
        "'''Esta funcion implementa el metodo de la biseccion\n",
        "para encontrar la raiz de una funcion.\n",
        "f:   funcion de la cual se busca la raiz\n",
        "Tol: tolerancia del error numerico\n",
        "N:   numero maximo de iteraciones\n",
        "a:   limite inferior del rango inicial\n",
        "b:   limite superior del rango inicial\n",
        "'''\n",
        "def biseccion(f,Tol,N,a,b):\n",
        "    fa, fb = f(a), f(b)\n",
        "    #no hay un cambio de signo (teorema del valor medio)\n",
        "    #no existe raiz en el intervalo [a,b]\n",
        "    if fa*fb>0:\n",
        "        print (\"no hay raiz en [a,b]\")\n",
        "        return [None, None]\n",
        "    #contador de iteraciones    \n",
        "    n=1\n",
        "    x0=0.0\n",
        "    #mientras no se exceda el numero de iteraciones\n",
        "    while n<=N:\n",
        "        #se busca la raiz en el punto medio\n",
        "        x1=(a+b)/2.0\n",
        "        fx=f(x1)\n",
        "        #en caso de que la iteracion siguiente y la diferencia\n",
        "        #entre la iteracion anterior no excedan Tol, entonces\n",
        "        #la iteracion actual se aproxima a la solucion buscada\n",
        "        if abs(f(x1)) <= Tol and abs(x1-x0) <= Tol:\n",
        "            return x1,n\n",
        "        #en caso de no cumplir el criterio de tolerancia\n",
        "        #se actualiza el rango de busqueda\n",
        "        if (fa*fx <0.0):\n",
        "            b=x1 \n",
        "        if (fx*fa >0.0):      \n",
        "            a=x1\n",
        "        x0=x1\n",
        "        #se incrementa el contador de iteraciones\n",
        "        n=n+1"
      ]
    },
    {
      "attachments": {},
      "cell_type": "markdown",
      "metadata": {
        "id": "TtqXkU11yQCm"
      },
      "source": [
        "#Falsa posicion"
      ]
    },
    {
      "cell_type": "code",
      "execution_count": null,
      "metadata": {
        "id": "ErXY6VxNyebi"
      },
      "outputs": [],
      "source": [
        "'''Esta funcion implementa el metodo de la falsa posicion\n",
        "para encontrar la raiz de una funcion.\n",
        "f:   funcion de la cual se busca la raiz\n",
        "Tol: tolerancia del error numerico\n",
        "N:   numero maximo de iteraciones\n",
        "a:   limite inferior del rango inicial\n",
        "b:   limite superior del rango inicial\n",
        "'''\n",
        "def falsaPosicion(f,Tol,N,a,b):\n",
        "    fa=f(a)\n",
        "    fb=f(b)\n",
        "    #en caso de que no haya cambio de signo, no existe raiz\n",
        "    if fa*fb>0:\n",
        "        print(\"No existe raíz en [a,b]\")\n",
        "        return [None, None]\n",
        "    #contador de iteraciones\n",
        "    n=1\n",
        "    #se toma una raiz inicial arbitraria   \n",
        "    x0=0.0\n",
        "    #mientras no se exceda el numero de iteraciones\n",
        "    while n<=N:\n",
        "        #se actualiza el rango de busqueda\n",
        "        fa,fb =f(a),f(b)\n",
        "        #se calcula la nueva iteracion\n",
        "        x1= (a*fb-b*fa)/(fb-fa)\n",
        "        fx=f(x1)\n",
        "        #en caso de que la diferencia entre la iteracion actual\n",
        "        #y la iteracion anterior no excedan Tol, y que la raiz\n",
        "        #evaluada no exceda la tolerancia, se devuelve la raiz\n",
        "        if abs(f(x1)) <= Tol and abs(x1-x0) <= Tol:\n",
        "            return x1,n\n",
        "        #en caso de no cumplir el criterio de tolerancia\n",
        "        #se actualiza el rango de busqueda\n",
        "        if (fa*fx <0.0):\n",
        "            b=x1 \n",
        "        if (fx*fa >0.0):      \n",
        "            a=x1\n",
        "        #se actualiza x0\n",
        "        x0=x1\n",
        "        #se incrementa el contador de iteraciones\n",
        "        n=n+1"
      ]
    },
    {
      "attachments": {},
      "cell_type": "markdown",
      "metadata": {
        "id": "D0owKYEJyVL5"
      },
      "source": [
        "#Secante"
      ]
    },
    {
      "cell_type": "code",
      "execution_count": null,
      "metadata": {
        "id": "H8aaEGBOye-5"
      },
      "outputs": [],
      "source": [
        "'''Esta funcion implementa el metodo de la secante\n",
        "para encontrar la raiz de una funcion.\n",
        "f:   funcion de la cual se busca la raiz\n",
        "Tol: tolerancia del error numerico\n",
        "N:   numero maximo de iteraciones\n",
        "x0:  aproximacion inicial\n",
        "x1: aproximacion siguiente\n",
        "'''\n",
        "def secante(f, Tol, N, x0, x1):\n",
        "    #contador de iteraciones\n",
        "    n = 1\n",
        "    #mientras no se haya superado el limite de iteraciones\n",
        "    while( N >= n ):\n",
        "        #calculo de los valores de fx\n",
        "        fx0,fx1=f(x0),f(x1)\n",
        "        #se calcula la siguiente aproximacion\n",
        "        xn = x1-fx1*((x1-x0)/float(fx1-fx0))\n",
        "        #en caso de que se cumplan los criteros de paro\n",
        "        #se devuelve la raiz\n",
        "        if (abs(f(xn)) <= Tol and abs(x0-x1) <= Tol):\n",
        "            return xn , n\n",
        "        #se actualizan los valores    \n",
        "        x0 = x1\n",
        "        x1 = xn\n",
        "        #incremento en las iteraciones\n",
        "        n+=1\n",
        "    raise Exception(\"Se alcanzo el maximo numero de iteraciones y no se encontro raiz\")"
      ]
    },
    {
      "attachments": {},
      "cell_type": "markdown",
      "metadata": {
        "id": "5Zuh5RV3yYyZ"
      },
      "source": [
        "#Newton"
      ]
    },
    {
      "cell_type": "code",
      "execution_count": null,
      "metadata": {
        "id": "62_xIM7-yfd0"
      },
      "outputs": [],
      "source": [
        "'''Esta funcion implementa el metodo de la falsa posicion\n",
        "para encontrar la raiz de una funcion.\n",
        "f:   funcion de la cual se busca la raiz\n",
        "df:  derivada de f\n",
        "Tol: tolerancia del error numerico\n",
        "N:   numero maximo de iteraciones\n",
        "x0:  aproximacion inicial\n",
        "'''\n",
        "def newton(f,df,Tol,N,x0):\n",
        "    #contador de iteraciones\n",
        "    n=1\n",
        "    #mientras no se haya superado el limite de iteraciones\n",
        "    while n<=N:\n",
        "        #se evalua la funcion y su derivada\n",
        "        fx=f(x0)\n",
        "        dfx=df(x0)\n",
        "        #se calcula la siguiente aproximacion\n",
        "        xn = x0-(fx/float(dfx))\n",
        "        #en caso de cumplir criterios se devuelve la raiz\n",
        "        if abs(f(xn)) <= Tol and abs(xn-x0) <= Tol:\n",
        "            return xn,n\n",
        "        #actualizamos las aproximaciones\n",
        "        x0 = xn\n",
        "        #se incrementa el contador de iteraciones    \n",
        "        n=n+1\n",
        "    raise Exception(\"Se alcanzo el maximo numero de iteraciones y no se encontro raiz\")\n",
        "\n"
      ]
    },
    {
      "attachments": {},
      "cell_type": "markdown",
      "metadata": {
        "id": "f6YG_E6Kz0Uj"
      },
      "source": [
        "#Funciones"
      ]
    },
    {
      "cell_type": "code",
      "execution_count": null,
      "metadata": {
        "id": "8f5s7qolz0jD"
      },
      "outputs": [],
      "source": [
        "def f_1(x):\n",
        "  return (3*(np.sin(x)))+2\n",
        "\n",
        "def df_1(x):\n",
        "  return 3*np.cos(x)\n",
        "\n",
        "def f_2(x):\n",
        "  return 2-np.exp(x)+np.log10(x)\n",
        "\n",
        "def df_2(x):\n",
        "  return 1/(x*np.log(10))-np.exp(x)\n",
        "\n",
        "def f_3(x):\n",
        "  return np.log(x+1)-x+1\n",
        "\n",
        "def df_3(x):\n",
        "  return (1/(x+1)) - 1"
      ]
    },
    {
      "cell_type": "code",
      "execution_count": null,
      "metadata": {
        "id": "-IU7VdQyepgK"
      },
      "outputs": [],
      "source": [
        "def grafIt(listaIt, funcion):\n",
        "  listaMet = [\"Bisección\", \"Falsa Posición\", \"Secante\", \"Newton\"]\n",
        "  plt.style.use(\"ggplot\")\n",
        "  fig = plt.figure(figsize = (10, 5))\n",
        "  plt.bar(listaMet, listaIt)\n",
        "  plt.xlabel(\"Métodos\")\n",
        "  plt.ylabel(\"Iteraciones\")\n",
        "  plt.suptitle(\"Iteraciones por Método\", fontsize = 18)\n",
        "  plt.title(funcion, fontsize = 16)\n",
        "  plt.show\n"
      ]
    },
    {
      "attachments": {},
      "cell_type": "markdown",
      "metadata": {
        "id": "5ihDYELE_OuP"
      },
      "source": [
        "#Aproximaciones"
      ]
    },
    {
      "attachments": {},
      "cell_type": "markdown",
      "metadata": {
        "id": "6-TAS_P1_UKX"
      },
      "source": [
        "Funcion $f(x) = 3\\sin(x)+2$"
      ]
    },
    {
      "cell_type": "code",
      "execution_count": null,
      "metadata": {
        "colab": {
          "base_uri": "https://localhost:8080/"
        },
        "id": "Mexbcyon_OXm",
        "outputId": "d3879d6e-1ab6-4067-88f8-53982d00785f"
      },
      "outputs": [
        {
          "name": "stdout",
          "output_type": "stream",
          "text": [
            " \n",
            "biseccion \n",
            "Aproximacion      Numero de iteraciones\n",
            "3.871319890022278     23\n",
            "5.553457736968994     23\n",
            " \n",
            "Falsa posicion\n",
            "Aproximacion      Numero de iteraciones\n",
            "3.8713203603650324     10\n",
            "5.553457636165346     9\n",
            " \n",
            "Secante\n",
            "Aproximacion      Numero de iteraciones\n",
            "3.8713203098167597     9\n",
            "5.553457650952621     9\n",
            " \n",
            "Newton\n",
            "Aproximacion      Numero de iteraciones\n",
            "3.87132030981654     4\n",
            "5.55345765095268     4\n"
          ]
        }
      ],
      "source": [
        "#biseccion \n",
        "print(\" \")\n",
        "print(\"biseccion \")\n",
        "print('Aproximacion', \"     Numero de iteraciones\" )\n",
        "print(biseccion(f_1,tol,N,0,5)[0] ,\"   \",biseccion(f_1,tol,N,0,5)[1] )\n",
        "print(biseccion(f_1,tol,N,5,9)[0] ,\"   \",biseccion(f_1,tol,N,5,9)[1] )\n",
        "\n",
        "#Falsa posicion \n",
        "print(\" \")\n",
        "print(\"Falsa posicion\")\n",
        "print('Aproximacion', \"     Numero de iteraciones\" )\n",
        "print(falsaPosicion(f_1,tol,N,0,5)[0] ,\"   \",falsaPosicion(f_1,tol,N,0,5)[1] )\n",
        "print(falsaPosicion(f_1,tol,N,5,9)[0] ,\"   \",falsaPosicion(f_1,tol,N,5,9)[1] )\n",
        "\n",
        "#Secante\n",
        "print(\" \")\n",
        "print(\"Secante\")\n",
        "print('Aproximacion', \"     Numero de iteraciones\" )\n",
        "print(secante(f_1,tol,N,0,5)[0] ,\"   \",secante(f_1,tol,N,0,5)[1] )\n",
        "print(secante(f_1,tol,N,5,9)[0] ,\"   \",secante(f_1,tol,N,5,9)[1] )\n",
        "\n",
        "#Newton\n",
        "print(\" \")\n",
        "print(\"Newton\")\n",
        "print('Aproximacion', \"     Numero de iteraciones\" )\n",
        "print(newton(f_1,df_1,tol,N,3)[0] ,\"   \",newton(f_1,df_1,tol,N,3)[1] )\n",
        "print(newton(f_1,df_1,tol,N,5)[0] ,\"   \",newton(f_1,df_1,tol,N,3)[1] )\n",
        "\n"
      ]
    },
    {
      "cell_type": "code",
      "execution_count": null,
      "metadata": {
        "colab": {
          "base_uri": "https://localhost:8080/",
          "height": 373
        },
        "id": "7Hrkkk19bg5R",
        "outputId": "a4fcc074-de6f-4f54-80e8-80dfb6b7fd25"
      },
      "outputs": [
        {
          "data": {
            "image/png": "[encoded data removed]",
            "text/plain": [
              "<Figure size 720x360 with 1 Axes>"
            ]
          },
          "metadata": {},
          "output_type": "display_data"
        }
      ],
      "source": [
        "# Bisección\n",
        "\n",
        "it_bis_1 = (biseccion(f_1,tol,N,0,5)[1] + biseccion(f_1,tol,N,5,9)[1]) / 2\n",
        "\n",
        "# Falsa posición\n",
        "\n",
        "it_fp_1 = (falsaPosicion(f_1,tol,N,0,5)[1] + falsaPosicion(f_1,tol,N,5,9)[1])/2\n",
        "\n",
        "# Secante\n",
        "\n",
        "it_sec_1 = (secante(f_1,tol,N,0,5)[1] + secante(f_1,tol,N,5,9)[1]) / 2\n",
        "\n",
        "# Newton \n",
        "\n",
        "it_newt_1 = (newton(f_1,df_1,tol,N,3)[1] + newton(f_1,df_1,tol,N,3)[1]) / 2\n",
        "\n",
        "# Lista Iteraciones por método\n",
        "\n",
        "listaMet_1 = [it_bis_1, it_fp_1, it_sec_1, it_newt_1]\n",
        "\n",
        "#Gráfica\n",
        "\n",
        "grafIt(listaMet_1, '$f(x)=3sen(x)+2$')"
      ]
    },
    {
      "attachments": {},
      "cell_type": "markdown",
      "metadata": {
        "id": "FStvBMF5Exx6"
      },
      "source": [
        "Funcion $f(x) = 2-e^x + log_{10}(x)$\n"
      ]
    },
    {
      "cell_type": "code",
      "execution_count": null,
      "metadata": {
        "colab": {
          "base_uri": "https://localhost:8080/"
        },
        "id": "1fGk5qRrErEh",
        "outputId": "2a3c779e-6b34-493e-d092-04a39525a1c3"
      },
      "outputs": [
        {
          "name": "stdout",
          "output_type": "stream",
          "text": [
            " \n",
            "biseccion \n",
            "Aproximacion      Numero de iteraciones\n",
            "0.1421518325805664     19\n",
            "0.5574407577514648     19\n",
            " \n",
            "Falsa posicion\n",
            "Aproximacion      Numero de iteraciones\n",
            "0.1421517838611691     22\n",
            "0.5574411823378016     13\n",
            " \n",
            "Secante\n",
            "Aproximacion      Numero de iteraciones\n",
            "0.14215141082218996     15\n",
            "0.5574416736273567     7\n",
            " \n",
            "Newton\n",
            "Aproximacion      Numero de iteraciones\n",
            "0.14215141082218996     6\n",
            "0.5574416736273569     7\n"
          ]
        },
        {
          "name": "stderr",
          "output_type": "stream",
          "text": [
            "<ipython-input-51-055605aac72d>:8: RuntimeWarning: divide by zero encountered in log10\n",
            "  return 2-np.exp(x)+np.log10(x)\n"
          ]
        }
      ],
      "source": [
        "#biseccion \n",
        "print(\" \")\n",
        "print(\"biseccion \")\n",
        "print('Aproximacion', \"     Numero de iteraciones\" )\n",
        "print(biseccion(f_2,tol,N,0,0.5)[0] ,\"   \",biseccion(f_2,tol,N,0,0.5)[1] )\n",
        "print(biseccion(f_2,tol,N,0.5,1)[0] ,\"   \",biseccion(f_2,tol,N,0.5,1)[1] )\n",
        "\n",
        "#Falsa posicion \n",
        "print(\" \")\n",
        "print(\"Falsa posicion\")\n",
        "print('Aproximacion', \"     Numero de iteraciones\" )\n",
        "print(falsaPosicion(f_2,tol,N,0.05,0.5)[0] ,\"   \",falsaPosicion(f_2,tol,N,0.05,0.5)[1] )\n",
        "print(falsaPosicion(f_2,tol,N,0.5,1)[0] ,\"   \",falsaPosicion(f_2,tol,N,0.5,1)[1] )\n",
        "\n",
        "\n",
        "#Secante\n",
        "print(\" \")\n",
        "print(\"Secante\")\n",
        "print('Aproximacion', \"     Numero de iteraciones\" )\n",
        "print(secante(f_2,tol,N,0.1,0.4)[0] ,\"   \",secante(f_2,tol,N,0.1,0.4)[1] )\n",
        "print(secante(f_2,tol,N,0.5,1)[0] ,\"   \",secante(f_2,tol,N,0.5,1)[1] )\n",
        "\n",
        "#Newton\n",
        "print(\" \")\n",
        "print(\"Newton\")\n",
        "print('Aproximacion', \"     Numero de iteraciones\" )\n",
        "print(newton(f_2,df_2,tol,N,0.05)[0] ,\"   \",newton(f_2,df_2,tol,N,0.05)[1] )\n",
        "print(newton(f_2,df_2,tol,N,2)[0] ,\"   \",newton(f_2,df_2,tol,N,2)[1] )\n"
      ]
    },
    {
      "cell_type": "code",
      "execution_count": null,
      "metadata": {
        "colab": {
          "base_uri": "https://localhost:8080/",
          "height": 408
        },
        "id": "FWBgJKVEemEW",
        "outputId": "4033aa9b-55bb-4f29-f2a1-faf40d37b8d9"
      },
      "outputs": [
        {
          "name": "stderr",
          "output_type": "stream",
          "text": [
            "<ipython-input-51-055605aac72d>:8: RuntimeWarning: divide by zero encountered in log10\n",
            "  return 2-np.exp(x)+np.log10(x)\n"
          ]
        },
        {
          "data": {
            "image/png": "[encoded data removed]",
            "text/plain": [
              "<Figure size 720x360 with 1 Axes>"
            ]
          },
          "metadata": {},
          "output_type": "display_data"
        }
      ],
      "source": [
        "# Bisección\n",
        "\n",
        "it_bis_2 = (biseccion(f_2,tol,N,0,0.5)[1] + biseccion(f_2,tol,N,0.5,1)[1])/2\n",
        "\n",
        "# Falsa posición\n",
        "\n",
        "it_fp_2 = (falsaPosicion(f_2,tol,N,0.05,0.5)[1] + falsaPosicion(f_2,tol,N,0.5,1)[1])/2\n",
        "\n",
        "# Secante\n",
        "\n",
        "it_sec_2 = (secante(f_2,tol,N,0.1,0.4)[1] + secante(f_2,tol,N,0.5,1)[1] )/2\n",
        "\n",
        "# Newton \n",
        "\n",
        "it_newt_2 = (newton(f_2,df_2,tol,N,0.05)[1] + newton(f_2,df_2,tol,N,2)[1])/2\n",
        "\n",
        "# Lista Iteraciones por método\n",
        "\n",
        "listaMet_2 = [it_bis_2, it_fp_2, it_sec_2, it_newt_2]\n",
        "\n",
        "#Gráfica\n",
        "\n",
        "grafIt(listaMet_2, '$f(x)=2-e^x+log_{10}(x)$')"
      ]
    },
    {
      "attachments": {},
      "cell_type": "markdown",
      "metadata": {
        "id": "6k--hH6qH_4_"
      },
      "source": [
        "Funcion $f(x) = ln(x+1)-x+1$"
      ]
    },
    {
      "cell_type": "code",
      "execution_count": null,
      "metadata": {
        "colab": {
          "base_uri": "https://localhost:8080/"
        },
        "id": "K8xWY4U2ZANd",
        "outputId": "51191150-0883-4bb5-8117-db7d0d09c673"
      },
      "outputs": [
        {
          "name": "stdout",
          "output_type": "stream",
          "text": [
            " \n",
            "Biseccion \n",
            "Aproximacion      Numero de iteraciones\n",
            "2.1461933851242065     23\n",
            "-0.8414055347442626     21\n",
            " \n",
            "Falsa posicion\n",
            "Aproximacion      Numero de iteraciones\n",
            "2.146193193435734     9\n",
            "-0.8414055414838054     10\n",
            " \n",
            "Secante\n",
            "Aproximacion      Numero de iteraciones\n",
            "2.1461932206205825     9\n",
            "-0.8414056604369606     6\n",
            " \n",
            "Newton\n",
            "Aproximacion      Numero de iteraciones\n",
            "2.1461932206205825     5\n",
            "-0.8414056604369606     8\n"
          ]
        }
      ],
      "source": [
        "#biseccion \n",
        "print(\" \")\n",
        "print(\"Biseccion \")\n",
        "print('Aproximacion', \"     Numero de iteraciones\" )\n",
        "print(biseccion(f_3,tol,N,0,5)[0] ,\"   \",biseccion(f_3,tol,N,0,5)[1] )\n",
        "print(biseccion(f_3,tol,N,-.9,0)[0] ,\"   \",biseccion(f_3,tol,N,-.9,0)[1] )\n",
        "\n",
        "#Falsa posicion \n",
        "print(\" \")\n",
        "print(\"Falsa posicion\")\n",
        "print('Aproximacion', \"     Numero de iteraciones\" )\n",
        "print(falsaPosicion(f_3,tol,N,0,5)[0] ,\"   \",falsaPosicion(f_3,tol,N,0,5)[1] )\n",
        "print(falsaPosicion(f_3,tol,N,-.9,-.5)[0] ,\"   \",falsaPosicion(f_3,tol,N,-.9,-.5)[1] )\n",
        "\n",
        "#Secante\n",
        "print(\" \")\n",
        "print(\"Secante\")\n",
        "print('Aproximacion', \"     Numero de iteraciones\" )\n",
        "print(secante(f_3,tol,N,0,5)[0] ,\"   \",secante(f_1,tol,N,0,5)[1] )\n",
        "print(secante(f_3,tol,N,-.9,-.5)[0] ,\"   \",secante(f_1,tol,N,-.9,-.5)[1] )\n",
        "\n",
        "#Newton\n",
        "print(\" \")\n",
        "print(\"Newton\")\n",
        "print('Aproximacion', \"    \", \"Numero de iteraciones\" )\n",
        "print(newton(f_3,df_3,tol,N,20)[0] ,\"   \",newton(f_3,df_3,tol,N,20)[1] )\n",
        "print(newton(f_3,df_3,tol,N,-.64)[0] ,\"   \",newton(f_3,df_3,tol,N,-.64)[1] )\n",
        "# Notemos que cualquier aproximacion inicial fuera de (-1,-.63) hace que el \n",
        "# método no converja\n"
      ]
    },
    {
      "cell_type": "code",
      "execution_count": null,
      "metadata": {
        "colab": {
          "base_uri": "https://localhost:8080/",
          "height": 373
        },
        "id": "tEE27veArQTv",
        "outputId": "0198900b-0772-43f8-844d-0c837e95ea6e"
      },
      "outputs": [
        {
          "data": {
            "image/png": "[encoded data removed]",
            "text/plain": [
              "<Figure size 720x360 with 1 Axes>"
            ]
          },
          "metadata": {},
          "output_type": "display_data"
        }
      ],
      "source": [
        "# Bisección\n",
        "\n",
        "it_bis_3 = (biseccion(f_3,tol,N,0,5)[1] + biseccion(f_3,tol,N,-.9,0)[1]) / 2\n",
        "\n",
        "# Falsa posición\n",
        "\n",
        "it_fp_3 = (falsaPosicion(f_3,tol,N,0,5)[1] + falsaPosicion(f_3,tol,N,-.9,-.5)[1]) / 2\n",
        "\n",
        "# Secante\n",
        "\n",
        "it_sec_3 = (secante(f_1,tol,N,0,5)[1] + secante(f_1,tol,N,-.9,-.5)[1]) / 2\n",
        "\n",
        "# Newton \n",
        "\n",
        "it_newt_3 = (newton(f_3,df_3,tol,N,20)[1] + newton(f_3,df_3,tol,N,-.64)[1]) / 2\n",
        "\n",
        "# Lista Iteraciones por método\n",
        "\n",
        "listaMet_3 = [it_bis_3, it_fp_3, it_sec_3, it_newt_3]\n",
        "\n",
        "#Gráfica\n",
        "\n",
        "grafIt(listaMet_3, '$f(x)=ln ( x+1 ) -x+1$')"
      ]
    },
    {
      "attachments": {},
      "cell_type": "markdown",
      "metadata": {
        "id": "nbtjOlnsOoMn"
      },
      "source": [
        "##Preguntas"
      ]
    },
    {
      "attachments": {},
      "cell_type": "markdown",
      "metadata": {
        "id": "natoeYF5OqEK"
      },
      "source": [
        "\n",
        "\n",
        "*   ¿Cuál fue el método que requiere más iteraciones para encontrar la raíz ó devolver un mensaje de error?\n",
        ">El metodo que mas itereaciones requiere, es el de biseccion, ademas de que algunas veces daba error, debido a que se debe tener un intervalo que contenga a la raiz  que ademas la funcion este bien definida en la cota del intervalo.\n",
        "\n",
        "*   ¿Cuál fue el método que requiere menos iteraciones para encontrar la raíz ó devolver un mensaje de error?\n",
        ">El metodo que menos iteraciones ocupo, fue el metodo de newton, siempre ocupando muy pocas iteraciones y con un error pequeño, de igual forma presento algunos errores cuando se presentaba algun maximo, minimo o punto de inflexion en la funcion, ya que causaba una indeterminacion en la derivada.\n",
        "\n",
        "*  ¿Podrías concluir que alguno de estos métodos es el 'mejor' de todos y funciona en cualquier situación?\n",
        ">Newton es el mejor metodo, debido a qe toma menos iteraciones, podria teoricamente funcionar en cualquier situacion, pero se debo tomar un buen punto proximo al valor raiz a buscar, para que el metodo funcione sin problema. \n",
        "\n",
        "\n",
        "\n",
        "\n",
        "\n",
        "\n"
      ]
    }
  ],
  "metadata": {
    "colab": {
      "provenance": []
    },
    "kernelspec": {
      "display_name": "Python 3",
      "name": "python3"
    },
    "language_info": {
      "name": "python"
    }
  },
  "nbformat": 4,
  "nbformat_minor": 0
}
